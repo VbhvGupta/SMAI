{
  "nbformat": 4,
  "nbformat_minor": 0,
  "metadata": {
    "kernelspec": {
      "display_name": "Python 3",
      "language": "python",
      "name": "python3"
    },
    "language_info": {
      "codemirror_mode": {
        "name": "ipython",
        "version": 3
      },
      "file_extension": ".py",
      "mimetype": "text/x-python",
      "name": "python",
      "nbconvert_exporter": "python",
      "pygments_lexer": "ipython3",
      "version": "3.8.5"
    },
    "colab": {
      "name": "CNN_cifar10.ipynb",
      "provenance": [],
      "collapsed_sections": [
        "-8-B3x2tS5RR",
        "ywHCLzsRq1In",
        "IvQUxtPBSOF8",
        "VMh76UYMQ_Zu",
        "Pk307RtE4pHq"
      ],
      "include_colab_link": true
    }
  },
  "cells": [
    {
      "cell_type": "markdown",
      "metadata": {
        "id": "view-in-github",
        "colab_type": "text"
      },
      "source": [
        "<a href=\"https://colab.research.google.com/github/whynotkush/SMAI/blob/main/CNN_cifar10.ipynb\" target=\"_parent\"><img src=\"https://colab.research.google.com/assets/colab-badge.svg\" alt=\"Open In Colab\"/></a>"
      ]
    },
    {
      "cell_type": "markdown",
      "metadata": {
        "id": "gBnW08ImKkqU"
      },
      "source": [
        "<h2 style='color:blue' align='center'>CIFAR-10 Image Classification Using Convolutional Neural Network (CNN)</h2>"
      ]
    },
    {
      "cell_type": "markdown",
      "metadata": {
        "id": "6kucA0-vKkqi"
      },
      "source": [
        "In this notebook, we will classify small images cifar10 dataset from tensorflow keras datasets. "
      ]
    },
    {
      "cell_type": "code",
      "metadata": {
        "id": "MXRoQO5GKkqm"
      },
      "source": [
        "import tensorflow as tf\n",
        "from tensorflow.keras import datasets, layers, models\n",
        "from keras.optimizers import SGD\n",
        "import numpy as np\n",
        "import matplotlib.pyplot as plt"
      ],
      "execution_count": 10,
      "outputs": []
    },
    {
      "cell_type": "markdown",
      "metadata": {
        "id": "g0hTpgnSKkqo"
      },
      "source": [
        "<h4 style=\"color:purple\">Load the dataset</h4>"
      ]
    },
    {
      "cell_type": "code",
      "metadata": {
        "colab": {
          "base_uri": "https://localhost:8080/"
        },
        "id": "hZo126WoKkqp",
        "outputId": "15a2f95c-01a7-41b6-c419-61674047f335"
      },
      "source": [
        "(X_train, y_train), (X_test,y_test) = datasets.cifar10.load_data()\n",
        "X_train.shape"
      ],
      "execution_count": 3,
      "outputs": [
        {
          "output_type": "stream",
          "text": [
            "Downloading data from https://www.cs.toronto.edu/~kriz/cifar-10-python.tar.gz\n",
            "170500096/170498071 [==============================] - 4s 0us/step\n"
          ],
          "name": "stdout"
        },
        {
          "output_type": "execute_result",
          "data": {
            "text/plain": [
              "(50000, 32, 32, 3)"
            ]
          },
          "metadata": {
            "tags": []
          },
          "execution_count": 3
        }
      ]
    },
    {
      "cell_type": "code",
      "metadata": {
        "scrolled": true,
        "colab": {
          "base_uri": "https://localhost:8080/"
        },
        "id": "aeXWZDSWKkq2",
        "outputId": "b4ebf920-80ef-4831-8927-5bf3443139f7"
      },
      "source": [
        "y_train.shape"
      ],
      "execution_count": 4,
      "outputs": [
        {
          "output_type": "execute_result",
          "data": {
            "text/plain": [
              "(50000, 1)"
            ]
          },
          "metadata": {
            "tags": []
          },
          "execution_count": 4
        }
      ]
    },
    {
      "cell_type": "code",
      "metadata": {
        "id": "ComL3mB0eim_"
      },
      "source": [
        "train_labels = tf.keras.utils.to_categorical(y_train)\n",
        "test_labels = tf.keras.utils.to_categorical(y_test)"
      ],
      "execution_count": 5,
      "outputs": []
    },
    {
      "cell_type": "code",
      "metadata": {
        "colab": {
          "base_uri": "https://localhost:8080/"
        },
        "id": "u1pMicGAzOP6",
        "outputId": "4227c5a9-7c20-471b-9406-4e500b138f2f"
      },
      "source": [
        "train_labels.shape"
      ],
      "execution_count": 6,
      "outputs": [
        {
          "output_type": "execute_result",
          "data": {
            "text/plain": [
              "(50000, 10)"
            ]
          },
          "metadata": {
            "tags": []
          },
          "execution_count": 6
        }
      ]
    },
    {
      "cell_type": "code",
      "metadata": {
        "id": "ykVtzmklKkq4"
      },
      "source": [
        "classes = [\"airplane\",\"automobile\",\"bird\",\"cat\",\"deer\",\"dog\",\"frog\",\"horse\",\"ship\",\"truck\"]"
      ],
      "execution_count": 7,
      "outputs": []
    },
    {
      "cell_type": "markdown",
      "metadata": {
        "id": "6iE2yE4zKkq5"
      },
      "source": [
        "Let's plot some images to see what they are "
      ]
    },
    {
      "cell_type": "code",
      "metadata": {
        "id": "JoIayeAtKkq5"
      },
      "source": [
        "def plot_sample(X, y, index):\n",
        "    plt.figure(figsize = (15,2))\n",
        "    plt.imshow(X[index])\n",
        "    plt.xlabel(classes[y[index][0]])"
      ],
      "execution_count": 8,
      "outputs": []
    },
    {
      "cell_type": "code",
      "metadata": {
        "scrolled": true,
        "colab": {
          "base_uri": "https://localhost:8080/",
          "height": 173
        },
        "id": "kFbtIZauKkq6",
        "outputId": "e870fcbe-f77b-4045-fad8-0bac7314c452"
      },
      "source": [
        "plot_sample(X_train, y_train, 0)"
      ],
      "execution_count": 11,
      "outputs": [
        {
          "output_type": "display_data",
          "data": {
            "image/png": "[encoded data removed]",
            "text/plain": [
              "<Figure size 1080x144 with 1 Axes>"
            ]
          },
          "metadata": {
            "tags": [],
            "needs_background": "light"
          }
        }
      ]
    },
    {
      "cell_type": "code",
      "metadata": {
        "colab": {
          "base_uri": "https://localhost:8080/",
          "height": 173
        },
        "id": "NyJlenefKkq7",
        "outputId": "31fe4386-dcbe-43f6-e1d7-e1e567a387e0"
      },
      "source": [
        "plot_sample(X_train, y_train, 1)"
      ],
      "execution_count": 12,
      "outputs": [
        {
          "output_type": "display_data",
          "data": {
            "image/png": "[encoded data removed]",
            "text/plain": [
              "<Figure size 1080x144 with 1 Axes>"
            ]
          },
          "metadata": {
            "tags": [],
            "needs_background": "light"
          }
        }
      ]
    },
    {
      "cell_type": "markdown",
      "metadata": {
        "id": "nRjLIpOLKkq8"
      },
      "source": [
        "Normalize the images to a number from 0 to 1. Image has 3 channels (R,G,B) and each value in the channel can range from 0 to 255. Hence to normalize in 0-->1 range, we need to divide it by 255"
      ]
    },
    {
      "cell_type": "markdown",
      "metadata": {
        "id": "Q-NUfUZtKkq9"
      },
      "source": [
        "<h4 style=\"color:purple\">Normalizing the training data</h4>"
      ]
    },
    {
      "cell_type": "code",
      "metadata": {
        "id": "MT96kW5fKkq9"
      },
      "source": [
        "X_train = X_train / 255.0\n",
        "X_test = X_test / 255.0"
      ],
      "execution_count": 13,
      "outputs": []
    },
    {
      "cell_type": "markdown",
      "metadata": {
        "id": "t7U1xmm_KkrB"
      },
      "source": [
        "<h4 style=\"color:purple\">build a convolutional neural network to train our images</h4>"
      ]
    },
    {
      "cell_type": "markdown",
      "metadata": {
        "id": "-8-B3x2tS5RR"
      },
      "source": [
        "## No Batch Normalisation"
      ]
    },
    {
      "cell_type": "code",
      "metadata": {
        "id": "luUHCjtyTAtj"
      },
      "source": [
        "cnn0 = models.Sequential([\n",
        "    \n",
        "    #input layer\n",
        "    layers.Conv2D(filters=32, kernel_size=(3, 3), activation='relu', padding='same', input_shape=(32, 32, 3)),\n",
        "    layers.MaxPooling2D((2, 2)),\n",
        "    \n",
        "    #hidden layer\n",
        "    layers.Conv2D(filters=64, kernel_size=(3, 3), activation='relu'),\n",
        "    layers.MaxPooling2D((2, 2)),\n",
        "    \n",
        "    #output layer\n",
        "    layers.Flatten(),\n",
        "    layers.Dense(10, activation='softmax')\n",
        "])"
      ],
      "execution_count": null,
      "outputs": []
    },
    {
      "cell_type": "code",
      "metadata": {
        "id": "GsC2EwNrTMCp"
      },
      "source": [
        "cnn0.compile(optimizer='SGD',\n",
        "              loss='categorical_crossentropy',\n",
        "              metrics=['accuracy'])"
      ],
      "execution_count": null,
      "outputs": []
    },
    {
      "cell_type": "code",
      "metadata": {
        "colab": {
          "base_uri": "https://localhost:8080/"
        },
        "id": "ZqJaZKKITPvG",
        "outputId": "cda94738-d6a2-42e9-ffd9-8f41264ce1bd"
      },
      "source": [
        "cnn0.fit(X_train, train_labels, epochs=5,validation_data=(X_test, test_labels))"
      ],
      "execution_count": null,
      "outputs": [
        {
          "output_type": "stream",
          "text": [
            "Epoch 1/5\n",
            "1563/1563 [==============================] - 60s 38ms/step - loss: 2.1244 - accuracy: 0.2192 - val_loss: 1.7986 - val_accuracy: 0.3702\n",
            "Epoch 2/5\n",
            "1563/1563 [==============================] - 59s 38ms/step - loss: 1.7134 - accuracy: 0.4014 - val_loss: 1.5775 - val_accuracy: 0.4438\n",
            "Epoch 3/5\n",
            "1563/1563 [==============================] - 60s 38ms/step - loss: 1.5092 - accuracy: 0.4642 - val_loss: 1.4151 - val_accuracy: 0.4960\n",
            "Epoch 4/5\n",
            "1563/1563 [==============================] - 59s 38ms/step - loss: 1.3962 - accuracy: 0.5090 - val_loss: 1.3550 - val_accuracy: 0.5330\n",
            "Epoch 5/5\n",
            "1563/1563 [==============================] - 59s 38ms/step - loss: 1.3098 - accuracy: 0.5427 - val_loss: 1.3259 - val_accuracy: 0.5392\n"
          ],
          "name": "stdout"
        },
        {
          "output_type": "execute_result",
          "data": {
            "text/plain": [
              "<tensorflow.python.keras.callbacks.History at 0x7f5a46282990>"
            ]
          },
          "metadata": {
            "tags": []
          },
          "execution_count": 9
        }
      ]
    },
    {
      "cell_type": "code",
      "metadata": {
        "colab": {
          "base_uri": "https://localhost:8080/"
        },
        "id": "12uXUZ8VTUIC",
        "outputId": "1de6817c-536b-4c3b-929c-296729c800fd"
      },
      "source": [
        "cnn0.evaluate(X_test,test_labels)"
      ],
      "execution_count": null,
      "outputs": [
        {
          "output_type": "stream",
          "text": [
            "313/313 [==============================] - 4s 12ms/step - loss: 1.3259 - accuracy: 0.5392\n"
          ],
          "name": "stdout"
        },
        {
          "output_type": "execute_result",
          "data": {
            "text/plain": [
              "[1.3258980512619019, 0.5392000079154968]"
            ]
          },
          "metadata": {
            "tags": []
          },
          "execution_count": 10
        }
      ]
    },
    {
      "cell_type": "markdown",
      "metadata": {
        "id": "ywHCLzsRq1In"
      },
      "source": [
        "## 2 Dense Layer"
      ]
    },
    {
      "cell_type": "code",
      "metadata": {
        "id": "moqgQU-6q0SL"
      },
      "source": [
        "cnn1 = models.Sequential([\n",
        "    \n",
        "    #input layer\n",
        "    layers.Conv2D(filters=32, kernel_size=(3, 3), activation='relu', padding='same', input_shape=(32, 32, 3)),\n",
        "    layers.MaxPooling2D((2, 2)),\n",
        "    \n",
        "    #output layer\n",
        "    layers.Flatten(),\n",
        "    layers.Dense(64, activation='relu'),\n",
        "    layers.Dense(10, activation='softmax')\n",
        "])"
      ],
      "execution_count": null,
      "outputs": []
    },
    {
      "cell_type": "code",
      "metadata": {
        "id": "OkQs0qOSsFgZ"
      },
      "source": [
        "cnn1.compile(optimizer='SGD',\n",
        "              loss='categorical_crossentropy',\n",
        "              metrics=['accuracy'])"
      ],
      "execution_count": null,
      "outputs": []
    },
    {
      "cell_type": "code",
      "metadata": {
        "colab": {
          "base_uri": "https://localhost:8080/"
        },
        "id": "tTo9LrVMsIv3",
        "outputId": "8e3fd323-af04-442f-fe87-c7162a0e9cc6"
      },
      "source": [
        "cnn1.fit(X_train, train_labels, epochs=5,validation_data=(X_test, test_labels))"
      ],
      "execution_count": null,
      "outputs": [
        {
          "output_type": "stream",
          "text": [
            "Epoch 1/5\n",
            "1563/1563 [==============================] - 36s 23ms/step - loss: 2.0365 - accuracy: 0.2667 - val_loss: 1.6908 - val_accuracy: 0.4166\n",
            "Epoch 2/5\n",
            "1563/1563 [==============================] - 31s 20ms/step - loss: 1.6496 - accuracy: 0.4306 - val_loss: 1.5043 - val_accuracy: 0.4660\n",
            "Epoch 3/5\n",
            "1563/1563 [==============================] - 32s 20ms/step - loss: 1.4759 - accuracy: 0.4849 - val_loss: 1.4423 - val_accuracy: 0.5000\n",
            "Epoch 4/5\n",
            "1563/1563 [==============================] - 32s 20ms/step - loss: 1.3820 - accuracy: 0.5204 - val_loss: 1.3709 - val_accuracy: 0.5079\n",
            "Epoch 5/5\n",
            "1563/1563 [==============================] - 31s 20ms/step - loss: 1.3084 - accuracy: 0.5442 - val_loss: 1.3198 - val_accuracy: 0.5364\n"
          ],
          "name": "stdout"
        },
        {
          "output_type": "execute_result",
          "data": {
            "text/plain": [
              "<tensorflow.python.keras.callbacks.History at 0x7f5a3e58c410>"
            ]
          },
          "metadata": {
            "tags": []
          },
          "execution_count": 13
        }
      ]
    },
    {
      "cell_type": "code",
      "metadata": {
        "colab": {
          "base_uri": "https://localhost:8080/"
        },
        "id": "7AFF4as7sptt",
        "outputId": "0013c0ab-95b8-49c9-f7bd-82c490a0f68c"
      },
      "source": [
        "cnn1.evaluate(X_test,test_labels)"
      ],
      "execution_count": null,
      "outputs": [
        {
          "output_type": "stream",
          "text": [
            "313/313 [==============================] - 2s 7ms/step - loss: 1.3198 - accuracy: 0.5364\n"
          ],
          "name": "stdout"
        },
        {
          "output_type": "execute_result",
          "data": {
            "text/plain": [
              "[1.3198277950286865, 0.5364000201225281]"
            ]
          },
          "metadata": {
            "tags": []
          },
          "execution_count": 14
        }
      ]
    },
    {
      "cell_type": "markdown",
      "metadata": {
        "id": "IvQUxtPBSOF8"
      },
      "source": [
        "## 2 blocks of Conv2D -> BatchNorm2D->MaxPooling2D"
      ]
    },
    {
      "cell_type": "code",
      "metadata": {
        "id": "u14PgjUhKkrC"
      },
      "source": [
        "cnn_2 = models.Sequential([\n",
        "    \n",
        "    #input layer\n",
        "    layers.Conv2D(filters=32, kernel_size=(3, 3), activation='relu', padding='same', input_shape=(32, 32, 3)),\n",
        "    layers.BatchNormalization(),\n",
        "    layers.MaxPooling2D((2, 2)),\n",
        "    \n",
        "    #hidden layer\n",
        "    layers.Conv2D(filters=64, kernel_size=(3, 3), padding='same', activation='relu'),\n",
        "    layers.BatchNormalization(),\n",
        "    layers.MaxPooling2D((2, 2)),\n",
        "    \n",
        "    #output layer\n",
        "    layers.Flatten(),\n",
        "    layers.Dense(64, activation='relu'),\n",
        "    layers.Dense(10, activation='softmax')\n",
        "])"
      ],
      "execution_count": 15,
      "outputs": []
    },
    {
      "cell_type": "code",
      "metadata": {
        "id": "7Ajgx6UwKkrD"
      },
      "source": [
        "cnn_2.compile(optimizer='SGD',\n",
        "              loss='categorical_crossentropy',\n",
        "              metrics=['accuracy'])"
      ],
      "execution_count": 16,
      "outputs": []
    },
    {
      "cell_type": "code",
      "metadata": {
        "scrolled": true,
        "colab": {
          "base_uri": "https://localhost:8080/"
        },
        "id": "0pkDGqm5KkrD",
        "outputId": "51dc675a-2b1f-4845-a61c-da3f4be803da"
      },
      "source": [
        "history_2 = cnn_2.fit(X_train, train_labels, epochs=10,validation_data=(X_test, test_labels))"
      ],
      "execution_count": 17,
      "outputs": [
        {
          "output_type": "stream",
          "text": [
            "Epoch 1/10\n",
            "1563/1563 [==============================] - 95s 61ms/step - loss: 1.6316 - accuracy: 0.4244 - val_loss: 1.6877 - val_accuracy: 0.4456\n",
            "Epoch 2/10\n",
            "1563/1563 [==============================] - 95s 61ms/step - loss: 1.1041 - accuracy: 0.6094 - val_loss: 1.1372 - val_accuracy: 0.6009\n",
            "Epoch 3/10\n",
            "1563/1563 [==============================] - 95s 61ms/step - loss: 0.9203 - accuracy: 0.6754 - val_loss: 1.2584 - val_accuracy: 0.5640\n",
            "Epoch 4/10\n",
            "1563/1563 [==============================] - 95s 61ms/step - loss: 0.8046 - accuracy: 0.7146 - val_loss: 1.6403 - val_accuracy: 0.5204\n",
            "Epoch 5/10\n",
            "1563/1563 [==============================] - 95s 61ms/step - loss: 0.7166 - accuracy: 0.7482 - val_loss: 1.0730 - val_accuracy: 0.6378\n",
            "Epoch 6/10\n",
            "1563/1563 [==============================] - 95s 61ms/step - loss: 0.6379 - accuracy: 0.7748 - val_loss: 1.1109 - val_accuracy: 0.6270\n",
            "Epoch 7/10\n",
            "1563/1563 [==============================] - 95s 61ms/step - loss: 0.5681 - accuracy: 0.8028 - val_loss: 1.6972 - val_accuracy: 0.5340\n",
            "Epoch 8/10\n",
            "1563/1563 [==============================] - 95s 61ms/step - loss: 0.5007 - accuracy: 0.8231 - val_loss: 0.9637 - val_accuracy: 0.6892\n",
            "Epoch 9/10\n",
            "1563/1563 [==============================] - 95s 61ms/step - loss: 0.4462 - accuracy: 0.8465 - val_loss: 1.1728 - val_accuracy: 0.6433\n",
            "Epoch 10/10\n",
            "1563/1563 [==============================] - 95s 61ms/step - loss: 0.3836 - accuracy: 0.8673 - val_loss: 1.0700 - val_accuracy: 0.6752\n"
          ],
          "name": "stdout"
        }
      ]
    },
    {
      "cell_type": "code",
      "metadata": {
        "scrolled": true,
        "colab": {
          "base_uri": "https://localhost:8080/"
        },
        "id": "MCRXulE_KkrE",
        "outputId": "73c11b12-3199-4240-8b64-6b34372f9997"
      },
      "source": [
        "cnn_2.evaluate(X_test,test_labels)"
      ],
      "execution_count": 18,
      "outputs": [
        {
          "output_type": "stream",
          "text": [
            "313/313 [==============================] - 5s 16ms/step - loss: 1.0700 - accuracy: 0.6752\n"
          ],
          "name": "stdout"
        },
        {
          "output_type": "execute_result",
          "data": {
            "text/plain": [
              "[1.0699645280838013, 0.6751999855041504]"
            ]
          },
          "metadata": {
            "tags": []
          },
          "execution_count": 18
        }
      ]
    },
    {
      "cell_type": "code",
      "metadata": {
        "id": "aKx9_Fcy0Mzl"
      },
      "source": [
        "y_pred2 = cnn_2.predict(X_test)"
      ],
      "execution_count": 20,
      "outputs": []
    },
    {
      "cell_type": "markdown",
      "metadata": {
        "id": "SGPEbcNV2Fy1"
      },
      "source": [
        "***Our y_pred2 is in one-hot form***"
      ]
    },
    {
      "cell_type": "code",
      "metadata": {
        "colab": {
          "base_uri": "https://localhost:8080/"
        },
        "id": "a4D_MzQNKkrF",
        "outputId": "dbcf4ffd-6240-430a-ac9e-a5f6d6112d34"
      },
      "source": [
        "y_pred2.shape"
      ],
      "execution_count": 21,
      "outputs": [
        {
          "output_type": "execute_result",
          "data": {
            "text/plain": [
              "(10000, 10)"
            ]
          },
          "metadata": {
            "tags": []
          },
          "execution_count": 21
        }
      ]
    },
    {
      "cell_type": "markdown",
      "metadata": {
        "id": "a98dvwcQ2OJg"
      },
      "source": [
        "***Reverse Transforming the y_pred2 from one-hot form to numeric values***\n"
      ]
    },
    {
      "cell_type": "code",
      "metadata": {
        "id": "E6q9ebIN1Cky"
      },
      "source": [
        "y_pred2 = np.argmax(y_pred2,axis=-1)"
      ],
      "execution_count": 22,
      "outputs": []
    },
    {
      "cell_type": "markdown",
      "metadata": {
        "id": "rHGjhpXg3wFP"
      },
      "source": [
        "***Reshaping the y_pred from (10000,) to (10000,1)***"
      ]
    },
    {
      "cell_type": "code",
      "metadata": {
        "colab": {
          "base_uri": "https://localhost:8080/"
        },
        "id": "exkAM_fZ1uCv",
        "outputId": "9d7b3300-5842-48de-8338-0dac3a2708f4"
      },
      "source": [
        "y_pred2=y_pred2.reshape(len(y_pred2),1)\n",
        "y_pred2.shape"
      ],
      "execution_count": 23,
      "outputs": [
        {
          "output_type": "execute_result",
          "data": {
            "text/plain": [
              "(10000, 1)"
            ]
          },
          "metadata": {
            "tags": []
          },
          "execution_count": 23
        }
      ]
    },
    {
      "cell_type": "markdown",
      "metadata": {
        "id": "E2GdfaIp2myE"
      },
      "source": [
        "***Plotting predicted label for test image at index 3***"
      ]
    },
    {
      "cell_type": "code",
      "metadata": {
        "colab": {
          "base_uri": "https://localhost:8080/",
          "height": 173
        },
        "id": "qqIY8_fgKkrI",
        "outputId": "44f318f1-4c1c-4a40-97f1-319f7a4d2e96"
      },
      "source": [
        "plot_sample(X_test, y_pred2,3)"
      ],
      "execution_count": 24,
      "outputs": [
        {
          "output_type": "display_data",
          "data": {
            "image/png": "[encoded data removed]",
            "text/plain": [
              "<Figure size 1080x144 with 1 Axes>"
            ]
          },
          "metadata": {
            "tags": [],
            "needs_background": "light"
          }
        }
      ]
    },
    {
      "cell_type": "code",
      "metadata": {
        "colab": {
          "base_uri": "https://localhost:8080/",
          "height": 300
        },
        "id": "b6K30ykqVB9p",
        "outputId": "67dcaa36-dfc6-4957-d892-1a6076373942"
      },
      "source": [
        "import matplotlib.pyplot as plt\n",
        "plt.plot(history_2.history['accuracy'], label='accuracy')\n",
        "plt.plot(history_2.history['val_accuracy'], label = 'val_accuracy')\n",
        "plt.xlabel('Epoch')\n",
        "plt.ylabel('Accuracy')\n",
        "plt.ylim([0.2, 1])\n",
        "plt.legend(loc='upper left')"
      ],
      "execution_count": null,
      "outputs": [
        {
          "output_type": "execute_result",
          "data": {
            "text/plain": [
              "<matplotlib.legend.Legend at 0x7f928992f3d0>"
            ]
          },
          "metadata": {
            "tags": []
          },
          "execution_count": 25
        },
        {
          "output_type": "display_data",
          "data": {
            "image/png": "[encoded data removed]",
            "text/plain": [
              "<Figure size 432x288 with 1 Axes>"
            ]
          },
          "metadata": {
            "tags": [],
            "needs_background": "light"
          }
        }
      ]
    },
    {
      "cell_type": "markdown",
      "metadata": {
        "id": "VMh76UYMQ_Zu"
      },
      "source": [
        " ## 3 blocks of Conv2D -> BatchNorm2D->MaxPooling2D"
      ]
    },
    {
      "cell_type": "code",
      "metadata": {
        "id": "YpyAlCYsRWYg"
      },
      "source": [
        "cnn_3 = models.Sequential([\n",
        "    \n",
        "    #input layer\n",
        "    layers.Conv2D(filters=32, kernel_size=(3, 3), activation='relu', padding='same', input_shape=(32, 32, 3)),\n",
        "    layers.BatchNormalization(),\n",
        "    layers.MaxPooling2D((2, 2)),\n",
        "    \n",
        "    #hidden layer\n",
        "    layers.Conv2D(filters=64, kernel_size=(3, 3), activation='relu', padding='same'),\n",
        "    layers.BatchNormalization(),\n",
        "    layers.MaxPooling2D((2, 2)),\n",
        "\n",
        "    #hidden layer\n",
        "    layers.Conv2D(filters=64, kernel_size=(3, 3), activation='relu', padding='same'),\n",
        "    layers.BatchNormalization(),\n",
        "    layers.MaxPooling2D((2, 2)),\n",
        "    \n",
        "    #output layer\n",
        "    layers.Flatten(),\n",
        "    layers.Dense(64, activation='relu'),\n",
        "    layers.Dense(10, activation='softmax')\n",
        "])"
      ],
      "execution_count": 26,
      "outputs": []
    },
    {
      "cell_type": "code",
      "metadata": {
        "id": "ZAIQ19-ER7si"
      },
      "source": [
        "cnn_3.compile(optimizer='SGD',\n",
        "              loss='categorical_crossentropy',\n",
        "              metrics=['accuracy'])"
      ],
      "execution_count": 27,
      "outputs": []
    },
    {
      "cell_type": "code",
      "metadata": {
        "colab": {
          "base_uri": "https://localhost:8080/"
        },
        "id": "gKnhmAhoSEC3",
        "outputId": "07a386d6-a95f-4085-8c64-c253ca1b88cd"
      },
      "source": [
        "history_3 = cnn_3.fit(X_train, train_labels, epochs=10,validation_data=(X_test, test_labels))"
      ],
      "execution_count": 28,
      "outputs": [
        {
          "output_type": "stream",
          "text": [
            "Epoch 1/10\n",
            "1563/1563 [==============================] - 112s 72ms/step - loss: 1.6414 - accuracy: 0.4199 - val_loss: 1.3399 - val_accuracy: 0.5363\n",
            "Epoch 2/10\n",
            "1563/1563 [==============================] - 112s 72ms/step - loss: 1.0805 - accuracy: 0.6144 - val_loss: 1.2874 - val_accuracy: 0.5406\n",
            "Epoch 3/10\n",
            "1563/1563 [==============================] - 113s 72ms/step - loss: 0.9176 - accuracy: 0.6782 - val_loss: 1.2201 - val_accuracy: 0.5908\n",
            "Epoch 4/10\n",
            "1563/1563 [==============================] - 113s 72ms/step - loss: 0.8081 - accuracy: 0.7169 - val_loss: 0.8970 - val_accuracy: 0.6892\n",
            "Epoch 5/10\n",
            "1563/1563 [==============================] - 113s 72ms/step - loss: 0.7398 - accuracy: 0.7433 - val_loss: 1.0096 - val_accuracy: 0.6603\n",
            "Epoch 6/10\n",
            "1563/1563 [==============================] - 113s 72ms/step - loss: 0.6758 - accuracy: 0.7621 - val_loss: 1.0524 - val_accuracy: 0.6411\n",
            "Epoch 7/10\n",
            "1563/1563 [==============================] - 112s 72ms/step - loss: 0.6205 - accuracy: 0.7836 - val_loss: 1.0184 - val_accuracy: 0.6694\n",
            "Epoch 8/10\n",
            "1563/1563 [==============================] - 113s 72ms/step - loss: 0.5699 - accuracy: 0.8022 - val_loss: 1.2979 - val_accuracy: 0.5961\n",
            "Epoch 9/10\n",
            "1563/1563 [==============================] - 113s 72ms/step - loss: 0.5313 - accuracy: 0.8148 - val_loss: 1.1033 - val_accuracy: 0.6562\n",
            "Epoch 10/10\n",
            "1563/1563 [==============================] - 112s 72ms/step - loss: 0.4827 - accuracy: 0.8317 - val_loss: 0.9248 - val_accuracy: 0.7034\n"
          ],
          "name": "stdout"
        }
      ]
    },
    {
      "cell_type": "code",
      "metadata": {
        "colab": {
          "base_uri": "https://localhost:8080/"
        },
        "id": "Q4t9GLxrSLbg",
        "outputId": "307c445d-834f-4205-de1c-6357479a85e5"
      },
      "source": [
        "cnn_3.evaluate(X_test,test_labels)"
      ],
      "execution_count": 29,
      "outputs": [
        {
          "output_type": "stream",
          "text": [
            "313/313 [==============================] - 6s 18ms/step - loss: 0.9248 - accuracy: 0.7034\n"
          ],
          "name": "stdout"
        },
        {
          "output_type": "execute_result",
          "data": {
            "text/plain": [
              "[0.9248499870300293, 0.7034000158309937]"
            ]
          },
          "metadata": {
            "tags": []
          },
          "execution_count": 29
        }
      ]
    },
    {
      "cell_type": "code",
      "metadata": {
        "id": "puxoaynTv5k3"
      },
      "source": [
        "y_pred = cnn_3.predict(X_test)"
      ],
      "execution_count": 30,
      "outputs": []
    },
    {
      "cell_type": "markdown",
      "metadata": {
        "id": "jmKfoguK207C"
      },
      "source": [
        "***Our y_pred2 is in one-hot form***"
      ]
    },
    {
      "cell_type": "code",
      "metadata": {
        "colab": {
          "base_uri": "https://localhost:8080/"
        },
        "id": "k-DSUp5kyRQu",
        "outputId": "f217d171-5574-4fa1-b85e-02624b0868d2"
      },
      "source": [
        "y_pred.shape"
      ],
      "execution_count": 31,
      "outputs": [
        {
          "output_type": "execute_result",
          "data": {
            "text/plain": [
              "(10000, 10)"
            ]
          },
          "metadata": {
            "tags": []
          },
          "execution_count": 31
        }
      ]
    },
    {
      "cell_type": "markdown",
      "metadata": {
        "id": "I6YMZ4Ao22XN"
      },
      "source": [
        "***Reverse Transforming the y_pred2 from one-hot form to numeric values***"
      ]
    },
    {
      "cell_type": "code",
      "metadata": {
        "id": "3W79IHgAyodH"
      },
      "source": [
        "y_pred = np.argmax(y_pred,axis=-1)"
      ],
      "execution_count": 32,
      "outputs": []
    },
    {
      "cell_type": "markdown",
      "metadata": {
        "id": "8mHb2cr_3fv5"
      },
      "source": [
        "***Reshaping the y_pred from (10000,) to (10000,1)***"
      ]
    },
    {
      "cell_type": "code",
      "metadata": {
        "colab": {
          "base_uri": "https://localhost:8080/"
        },
        "id": "ZwcuCRNL3O3F",
        "outputId": "e8b5b682-3473-42e1-8faf-a398578ce20a"
      },
      "source": [
        "y_pred=y_pred.reshape(len(y_pred),1)\n",
        "y_pred.shape"
      ],
      "execution_count": 33,
      "outputs": [
        {
          "output_type": "execute_result",
          "data": {
            "text/plain": [
              "(10000, 1)"
            ]
          },
          "metadata": {
            "tags": []
          },
          "execution_count": 33
        }
      ]
    },
    {
      "cell_type": "markdown",
      "metadata": {
        "id": "_Uy6oOzO3cXv"
      },
      "source": [
        "***Plotting predicted label for test image at index 3***"
      ]
    },
    {
      "cell_type": "code",
      "metadata": {
        "colab": {
          "base_uri": "https://localhost:8080/",
          "height": 173
        },
        "id": "VNuFfZYyxNb-",
        "outputId": "3257538d-6588-4c04-b82c-81e67d9afc41"
      },
      "source": [
        "plot_sample(X_test, y_pred,3)"
      ],
      "execution_count": 34,
      "outputs": [
        {
          "output_type": "display_data",
          "data": {
            "image/png": "[encoded data removed]",
            "text/plain": [
              "<Figure size 1080x144 with 1 Axes>"
            ]
          },
          "metadata": {
            "tags": [],
            "needs_background": "light"
          }
        }
      ]
    },
    {
      "cell_type": "markdown",
      "metadata": {
        "id": "Pk307RtE4pHq"
      },
      "source": [
        "## Best Model"
      ]
    },
    {
      "cell_type": "markdown",
      "metadata": {
        "id": "t6GhTenn4sgD"
      },
      "source": [
        "**From the Accuracies of above models on 5 epochs, Our last model with 3 blocks of conv2D gave the best result**"
      ]
    },
    {
      "cell_type": "markdown",
      "metadata": {
        "id": "fBzkLgLP5Kmm"
      },
      "source": [
        "### plotting the accuracy vs epoch graph for our best model"
      ]
    },
    {
      "cell_type": "code",
      "metadata": {
        "colab": {
          "base_uri": "https://localhost:8080/",
          "height": 300
        },
        "id": "OOzAzJ1B5kgI",
        "outputId": "22d272ba-3321-4599-87eb-dc8d337e2667"
      },
      "source": [
        "import matplotlib.pyplot as plt\n",
        "plt.plot(history_3.history['accuracy'], label='accuracy')\n",
        "plt.plot(history_3.history['val_accuracy'], label = 'val_accuracy')\n",
        "plt.xlabel('Epoch')\n",
        "plt.ylabel('Accuracy')\n",
        "plt.ylim([0.2, 1])\n",
        "plt.legend(loc='upper left')"
      ],
      "execution_count": 35,
      "outputs": [
        {
          "output_type": "execute_result",
          "data": {
            "text/plain": [
              "<matplotlib.legend.Legend at 0x7f9287dffb90>"
            ]
          },
          "metadata": {
            "tags": []
          },
          "execution_count": 35
        },
        {
          "output_type": "display_data",
          "data": {
            "image/png": "[encoded data removed]",
            "text/plain": [
              "<Figure size 432x288 with 1 Axes>"
            ]
          },
          "metadata": {
            "tags": [],
            "needs_background": "light"
          }
        }
      ]
    },
    {
      "cell_type": "markdown",
      "metadata": {
        "id": "Vzo1gErP80fa"
      },
      "source": [
        "### Model Summary"
      ]
    },
    {
      "cell_type": "code",
      "metadata": {
        "colab": {
          "base_uri": "https://localhost:8080/"
        },
        "id": "vJ1T0OId83ji",
        "outputId": "3747e57e-5869-45dd-f23d-2ec52058c57a"
      },
      "source": [
        "cnn_3.summary()"
      ],
      "execution_count": 36,
      "outputs": [
        {
          "output_type": "stream",
          "text": [
            "Model: \"sequential_2\"\n",
            "_________________________________________________________________\n",
            "Layer (type)                 Output Shape              Param #   \n",
            "=================================================================\n",
            "conv2d_4 (Conv2D)            (None, 32, 32, 32)        896       \n",
            "_________________________________________________________________\n",
            "batch_normalization_4 (Batch (None, 32, 32, 32)        128       \n",
            "_________________________________________________________________\n",
            "max_pooling2d_4 (MaxPooling2 (None, 16, 16, 32)        0         \n",
            "_________________________________________________________________\n",
            "conv2d_5 (Conv2D)            (None, 16, 16, 64)        18496     \n",
            "_________________________________________________________________\n",
            "batch_normalization_5 (Batch (None, 16, 16, 64)        256       \n",
            "_________________________________________________________________\n",
            "max_pooling2d_5 (MaxPooling2 (None, 8, 8, 64)          0         \n",
            "_________________________________________________________________\n",
            "conv2d_6 (Conv2D)            (None, 8, 8, 64)          36928     \n",
            "_________________________________________________________________\n",
            "batch_normalization_6 (Batch (None, 8, 8, 64)          256       \n",
            "_________________________________________________________________\n",
            "max_pooling2d_6 (MaxPooling2 (None, 4, 4, 64)          0         \n",
            "_________________________________________________________________\n",
            "flatten_2 (Flatten)          (None, 1024)              0         \n",
            "_________________________________________________________________\n",
            "dense_4 (Dense)              (None, 64)                65600     \n",
            "_________________________________________________________________\n",
            "dense_5 (Dense)              (None, 10)                650       \n",
            "=================================================================\n",
            "Total params: 123,210\n",
            "Trainable params: 122,890\n",
            "Non-trainable params: 320\n",
            "_________________________________________________________________\n"
          ],
          "name": "stdout"
        }
      ]
    },
    {
      "cell_type": "markdown",
      "metadata": {
        "id": "ZGvc8kZCabhd"
      },
      "source": [
        "#### Saving the best Model"
      ]
    },
    {
      "cell_type": "code",
      "metadata": {
        "colab": {
          "base_uri": "https://localhost:8080/"
        },
        "id": "YgBYK3MTae-7",
        "outputId": "d3e2a75a-fff6-4818-9e10-e2797d6b0d46"
      },
      "source": [
        "cnn_3.save('/content/drive/MyDrive/SMAI/assgn3/q1')"
      ],
      "execution_count": 37,
      "outputs": [
        {
          "output_type": "stream",
          "text": [
            "INFO:tensorflow:Assets written to: /content/drive/MyDrive/SMAI/assgn3/q1/assets\n"
          ],
          "name": "stdout"
        }
      ]
    }
  ]
}