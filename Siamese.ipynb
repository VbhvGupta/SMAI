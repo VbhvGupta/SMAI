{
  "nbformat": 4,
  "nbformat_minor": 0,
  "metadata": {
    "colab": {
      "name": "Siamese.ipynb",
      "provenance": [],
      "collapsed_sections": [
        "s6BZZRZR76__",
        "mby8hVJpgyaZ",
        "iwLBRQUnrDWH"
      ],
      "mount_file_id": "1zpfHClpq3TtGvdc1z_YU6z5Z2Zwdm6jl",
      "authorship_tag": "ABX9TyMPoF74xC6r8WvaCFS/qSfo",
      "include_colab_link": true
    },
    "kernelspec": {
      "name": "python3",
      "display_name": "Python 3"
    },
    "language_info": {
      "name": "python"
    }
  },
  "cells": [
    {
      "cell_type": "markdown",
      "metadata": {
        "id": "view-in-github",
        "colab_type": "text"
      },
      "source": [
        "<a href=\"https://colab.research.google.com/github/whynotkush/SMAI/blob/main/Siamese.ipynb\" target=\"_parent\"><img src=\"https://colab.research.google.com/assets/colab-badge.svg\" alt=\"Open In Colab\"/></a>"
      ]
    },
    {
      "cell_type": "markdown",
      "metadata": {
        "id": "onQAKpjXx_I5"
      },
      "source": [
        "<h1> <center> Implementing a Siamese network on MNIST Dataset </center></h1>"
      ]
    },
    {
      "cell_type": "markdown",
      "metadata": {
        "id": "f3x5_QPxzO9X"
      },
      "source": [
        "Install tensorflow addons"
      ]
    },
    {
      "cell_type": "code",
      "metadata": {
        "colab": {
          "base_uri": "https://localhost:8080/"
        },
        "id": "16DbOd55x4Ac",
        "outputId": "2bebf6f8-0206-4ea0-bd44-6697ce4ded93"
      },
      "source": [
        "!pip3 install -q -U tensorflow-addons"
      ],
      "execution_count": null,
      "outputs": [
        {
          "output_type": "stream",
          "text": [
            "\u001b[?25l\r\u001b[K     |▌                               | 10kB 18.5MB/s eta 0:00:01\r\u001b[K     |█                               | 20kB 23.6MB/s eta 0:00:01\r\u001b[K     |█▍                              | 30kB 15.6MB/s eta 0:00:01\r\u001b[K     |█▉                              | 40kB 9.8MB/s eta 0:00:01\r\u001b[K     |██▎                             | 51kB 8.7MB/s eta 0:00:01\r\u001b[K     |██▉                             | 61kB 8.0MB/s eta 0:00:01\r\u001b[K     |███▎                            | 71kB 8.7MB/s eta 0:00:01\r\u001b[K     |███▊                            | 81kB 9.6MB/s eta 0:00:01\r\u001b[K     |████▏                           | 92kB 9.8MB/s eta 0:00:01\r\u001b[K     |████▋                           | 102kB 7.3MB/s eta 0:00:01\r\u001b[K     |█████▏                          | 112kB 7.3MB/s eta 0:00:01\r\u001b[K     |█████▋                          | 122kB 7.3MB/s eta 0:00:01\r\u001b[K     |██████                          | 133kB 7.3MB/s eta 0:00:01\r\u001b[K     |██████▌                         | 143kB 7.3MB/s eta 0:00:01\r\u001b[K     |███████                         | 153kB 7.3MB/s eta 0:00:01\r\u001b[K     |███████▌                        | 163kB 7.3MB/s eta 0:00:01\r\u001b[K     |████████                        | 174kB 7.3MB/s eta 0:00:01\r\u001b[K     |████████▍                       | 184kB 7.3MB/s eta 0:00:01\r\u001b[K     |████████▉                       | 194kB 7.3MB/s eta 0:00:01\r\u001b[K     |█████████▎                      | 204kB 7.3MB/s eta 0:00:01\r\u001b[K     |█████████▉                      | 215kB 7.3MB/s eta 0:00:01\r\u001b[K     |██████████▎                     | 225kB 7.3MB/s eta 0:00:01\r\u001b[K     |██████████▊                     | 235kB 7.3MB/s eta 0:00:01\r\u001b[K     |███████████▏                    | 245kB 7.3MB/s eta 0:00:01\r\u001b[K     |███████████▋                    | 256kB 7.3MB/s eta 0:00:01\r\u001b[K     |████████████▏                   | 266kB 7.3MB/s eta 0:00:01\r\u001b[K     |████████████▋                   | 276kB 7.3MB/s eta 0:00:01\r\u001b[K     |█████████████                   | 286kB 7.3MB/s eta 0:00:01\r\u001b[K     |█████████████▌                  | 296kB 7.3MB/s eta 0:00:01\r\u001b[K     |██████████████                  | 307kB 7.3MB/s eta 0:00:01\r\u001b[K     |██████████████▍                 | 317kB 7.3MB/s eta 0:00:01\r\u001b[K     |███████████████                 | 327kB 7.3MB/s eta 0:00:01\r\u001b[K     |███████████████▍                | 337kB 7.3MB/s eta 0:00:01\r\u001b[K     |███████████████▉                | 348kB 7.3MB/s eta 0:00:01\r\u001b[K     |████████████████▎               | 358kB 7.3MB/s eta 0:00:01\r\u001b[K     |████████████████▊               | 368kB 7.3MB/s eta 0:00:01\r\u001b[K     |█████████████████▎              | 378kB 7.3MB/s eta 0:00:01\r\u001b[K     |█████████████████▊              | 389kB 7.3MB/s eta 0:00:01\r\u001b[K     |██████████████████▏             | 399kB 7.3MB/s eta 0:00:01\r\u001b[K     |██████████████████▋             | 409kB 7.3MB/s eta 0:00:01\r\u001b[K     |███████████████████             | 419kB 7.3MB/s eta 0:00:01\r\u001b[K     |███████████████████▋            | 430kB 7.3MB/s eta 0:00:01\r\u001b[K     |████████████████████            | 440kB 7.3MB/s eta 0:00:01\r\u001b[K     |████████████████████▌           | 450kB 7.3MB/s eta 0:00:01\r\u001b[K     |█████████████████████           | 460kB 7.3MB/s eta 0:00:01\r\u001b[K     |█████████████████████▍          | 471kB 7.3MB/s eta 0:00:01\r\u001b[K     |██████████████████████          | 481kB 7.3MB/s eta 0:00:01\r\u001b[K     |██████████████████████▍         | 491kB 7.3MB/s eta 0:00:01\r\u001b[K     |██████████████████████▉         | 501kB 7.3MB/s eta 0:00:01\r\u001b[K     |███████████████████████▎        | 512kB 7.3MB/s eta 0:00:01\r\u001b[K     |███████████████████████▊        | 522kB 7.3MB/s eta 0:00:01\r\u001b[K     |████████████████████████▎       | 532kB 7.3MB/s eta 0:00:01\r\u001b[K     |████████████████████████▊       | 542kB 7.3MB/s eta 0:00:01\r\u001b[K     |█████████████████████████▏      | 552kB 7.3MB/s eta 0:00:01\r\u001b[K     |█████████████████████████▋      | 563kB 7.3MB/s eta 0:00:01\r\u001b[K     |██████████████████████████      | 573kB 7.3MB/s eta 0:00:01\r\u001b[K     |██████████████████████████▋     | 583kB 7.3MB/s eta 0:00:01\r\u001b[K     |███████████████████████████     | 593kB 7.3MB/s eta 0:00:01\r\u001b[K     |███████████████████████████▌    | 604kB 7.3MB/s eta 0:00:01\r\u001b[K     |████████████████████████████    | 614kB 7.3MB/s eta 0:00:01\r\u001b[K     |████████████████████████████▍   | 624kB 7.3MB/s eta 0:00:01\r\u001b[K     |████████████████████████████▉   | 634kB 7.3MB/s eta 0:00:01\r\u001b[K     |█████████████████████████████▍  | 645kB 7.3MB/s eta 0:00:01\r\u001b[K     |█████████████████████████████▉  | 655kB 7.3MB/s eta 0:00:01\r\u001b[K     |██████████████████████████████▎ | 665kB 7.3MB/s eta 0:00:01\r\u001b[K     |██████████████████████████████▊ | 675kB 7.3MB/s eta 0:00:01\r\u001b[K     |███████████████████████████████▏| 686kB 7.3MB/s eta 0:00:01\r\u001b[K     |███████████████████████████████▊| 696kB 7.3MB/s eta 0:00:01\r\u001b[K     |████████████████████████████████| 706kB 7.3MB/s \n",
            "\u001b[?25h"
          ],
          "name": "stdout"
        }
      ]
    },
    {
      "cell_type": "code",
      "metadata": {
        "id": "00w0kNoLzjyo"
      },
      "source": [
        "from sklearn.datasets import make_classification\n",
        "from sklearn.preprocessing import MinMaxScaler\n",
        "from sklearn.model_selection import train_test_split\n",
        "from tensorflow.keras.models import Model\n",
        "from tensorflow.keras.layers import Input\n",
        "from tensorflow.keras.layers import Dense\n",
        "from tensorflow.keras.layers import LeakyReLU , Flatten\n",
        "from tensorflow.keras.layers import Conv2D, Activation,AveragePooling2D\n",
        "from tensorflow.keras.layers import BatchNormalization\n",
        "from tensorflow.keras.utils import plot_model\n",
        "import tensorflow as tf\n",
        "from tensorflow.keras.layers import Dropout, Lambda\n",
        "import numpy as np\n",
        "import random\n",
        "from matplotlib import pyplot"
      ],
      "execution_count": null,
      "outputs": []
    },
    {
      "cell_type": "code",
      "metadata": {
        "id": "wYlV6byy0hxj"
      },
      "source": [
        "# define dataset\n",
        "from tensorflow.keras.datasets import mnist\n",
        "(x_train, y_train), (x_test, y_test) = mnist.load_data()\n",
        "\n",
        "# scale data\n",
        "x_train = x_train / 255.0\n",
        "x_test = x_test / 255.0"
      ],
      "execution_count": null,
      "outputs": []
    },
    {
      "cell_type": "code",
      "metadata": {
        "id": "s0pSg6Sz0p-1"
      },
      "source": [
        "x_train = x_train.reshape(60000,28,28,1)\n",
        "x_test = x_test.reshape(10000,28,28,1)"
      ],
      "execution_count": null,
      "outputs": []
    },
    {
      "cell_type": "code",
      "metadata": {
        "colab": {
          "base_uri": "https://localhost:8080/"
        },
        "id": "L7SoNRFb0u8s",
        "outputId": "4b6ab21e-ecb5-4492-9fbc-a8afad8c052d"
      },
      "source": [
        "x_train.shape , x_test.shape"
      ],
      "execution_count": null,
      "outputs": [
        {
          "output_type": "execute_result",
          "data": {
            "text/plain": [
              "((60000, 28, 28, 1), (10000, 28, 28, 1))"
            ]
          },
          "metadata": {
            "tags": []
          },
          "execution_count": 18
        }
      ]
    },
    {
      "cell_type": "code",
      "metadata": {
        "id": "7BI2Tm1q0x5l"
      },
      "source": [
        "y_train = y_train.reshape(len(y_train),1)\n",
        "y_test = y_test.reshape(len(y_test),1)"
      ],
      "execution_count": null,
      "outputs": []
    },
    {
      "cell_type": "code",
      "metadata": {
        "colab": {
          "base_uri": "https://localhost:8080/"
        },
        "id": "kSg66g3O018B",
        "outputId": "90333f5b-0f77-49d4-8076-535b8e1b72cf"
      },
      "source": [
        "y_train.shape , y_test.shape"
      ],
      "execution_count": null,
      "outputs": [
        {
          "output_type": "execute_result",
          "data": {
            "text/plain": [
              "((60000, 1), (10000, 1))"
            ]
          },
          "metadata": {
            "tags": []
          },
          "execution_count": 20
        }
      ]
    },
    {
      "cell_type": "code",
      "metadata": {
        "id": "NYdI_zlyxt-L"
      },
      "source": [
        "input_shape = (28, 28, 1)"
      ],
      "execution_count": null,
      "outputs": []
    },
    {
      "cell_type": "markdown",
      "metadata": {
        "id": "0cIDl2r-9P1y"
      },
      "source": [
        "Plotting sample image"
      ]
    },
    {
      "cell_type": "code",
      "metadata": {
        "id": "4XnTG5lG08sg"
      },
      "source": [
        "from matplotlib import pyplot as plt\n",
        "def plot_sample(X, y, index):\n",
        "    plt.figure(figsize = (15,4))\n",
        "    plt.imshow(X[index])\n",
        "    plt.axis('off')\n",
        "    plt.title('label : '+str(y[index][0]))"
      ],
      "execution_count": null,
      "outputs": []
    },
    {
      "cell_type": "code",
      "metadata": {
        "colab": {
          "base_uri": "https://localhost:8080/",
          "height": 264
        },
        "id": "P0-xVsGc0_P3",
        "outputId": "2b7c6cdd-780d-46cb-bb66-a012a6fc8b32"
      },
      "source": [
        "plot_sample(x_train.reshape(60000,28,28) , y_train , 5)"
      ],
      "execution_count": null,
      "outputs": [
        {
          "output_type": "display_data",
          "data": {
            "image/png": "[encoded data removed]",
            "text/plain": [
              "<Figure size 1080x288 with 1 Axes>"
            ]
          },
          "metadata": {
            "tags": [],
            "needs_background": "light"
          }
        }
      ]
    },
    {
      "cell_type": "code",
      "metadata": {
        "id": "bq3A-l_XsanH"
      },
      "source": [
        "from __future__ import absolute_import\n",
        "from __future__ import print_function\n",
        "from keras import backend as K\n",
        " \n",
        "num_classes = 10\n",
        "epochs = 10\n",
        "\n",
        "def create_pairs(x, digit_indices):\n",
        "  pairs = []\n",
        "  labels = []\n",
        "   \n",
        "  n=min([len(digit_indices[d]) for d in range(num_classes)]) -1\n",
        "   \n",
        "  for d in range(num_classes):\n",
        "    for i in range(n):\n",
        "      z1, z2 = digit_indices[d][i], digit_indices[d][i+1]\n",
        "      x1_ = x[z1]\n",
        "      x2_ = x[z2]\n",
        "      pairs += [[x1_, x2_]]\n",
        "      inc = random.randrange(1, num_classes)\n",
        "      dn = (d + inc) % num_classes\n",
        "      z1, z2 = digit_indices[d][i], digit_indices[dn][i]\n",
        "      pairs += [[x1_,x2_]]\n",
        "      labels += [1,0]\n",
        "  return np.array(pairs), np.array(labels)\n",
        " \n",
        " \n",
        "def create_base_net(input_shape):\n",
        "   \n",
        "  input = Input(shape = input_shape)\n",
        "  \n",
        "  x = Conv2D(4, (3,3), activation = 'tanh')(input)\n",
        "  x = AveragePooling2D(pool_size = (2,2))(x)\n",
        "  x = Dropout(0.5)(x)\n",
        "\n",
        "  x = Conv2D(8, (3,3), activation = 'tanh')(x)\n",
        "  x = AveragePooling2D(pool_size = (2,2))(x)\n",
        "  \n",
        "  x = Flatten()(x)\n",
        "  x = Dense(10, activation = 'tanh')(x)\n",
        "  \n",
        "  model = Model(input, x)\n",
        "  \n",
        "  model.summary()\n",
        "  return model"
      ],
      "execution_count": null,
      "outputs": []
    },
    {
      "cell_type": "code",
      "metadata": {
        "colab": {
          "base_uri": "https://localhost:8080/"
        },
        "id": "_2sXvXbrsuzG",
        "outputId": "7f06500f-f0d9-4559-9383-9199e472cca3"
      },
      "source": [
        "# create training+test positive and negative pairs\n",
        "digit_indices = [np.where(y_train == i)[0] for i in range(num_classes)]\n",
        "tr_pairs, tr_y = create_pairs(x_train, digit_indices)\n",
        " \n",
        "digit_indices = [np.where(y_test == i)[0] for i in range(num_classes)]\n",
        "te_pairs, te_y = create_pairs(x_test, digit_indices)\n",
        " \n",
        "# network definition\n",
        "base_network = create_base_net(input_shape)"
      ],
      "execution_count": null,
      "outputs": [
        {
          "output_type": "stream",
          "text": [
            "Model: \"model_10\"\n",
            "_________________________________________________________________\n",
            "Layer (type)                 Output Shape              Param #   \n",
            "=================================================================\n",
            "input_25 (InputLayer)        [(None, 28, 28, 1)]       0         \n",
            "_________________________________________________________________\n",
            "conv2d_8 (Conv2D)            (None, 26, 26, 4)         40        \n",
            "_________________________________________________________________\n",
            "average_pooling2d_8 (Average (None, 13, 13, 4)         0         \n",
            "_________________________________________________________________\n",
            "dropout_7 (Dropout)          (None, 13, 13, 4)         0         \n",
            "_________________________________________________________________\n",
            "conv2d_9 (Conv2D)            (None, 11, 11, 8)         296       \n",
            "_________________________________________________________________\n",
            "average_pooling2d_9 (Average (None, 5, 5, 8)           0         \n",
            "_________________________________________________________________\n",
            "flatten_5 (Flatten)          (None, 200)               0         \n",
            "_________________________________________________________________\n",
            "dense_4 (Dense)              (None, 10)                2010      \n",
            "=================================================================\n",
            "Total params: 2,346\n",
            "Trainable params: 2,346\n",
            "Non-trainable params: 0\n",
            "_________________________________________________________________\n"
          ],
          "name": "stdout"
        }
      ]
    },
    {
      "cell_type": "markdown",
      "metadata": {
        "id": "-5BY8e7BykM2"
      },
      "source": [
        "Euclidean Distance"
      ]
    },
    {
      "cell_type": "code",
      "metadata": {
        "id": "B22z0lGkyigT"
      },
      "source": [
        "def euclid_dis(vects):\n",
        "  x,y = vects\n",
        "  sum_square = K.sum(K.square(x-y), axis=1, keepdims=True)\n",
        "  eps = K.epsilon()\n",
        "  max_ = K.maximum(sum_square)\n",
        "  return K.sqrt( max_, eps )"
      ],
      "execution_count": null,
      "outputs": []
    },
    {
      "cell_type": "code",
      "metadata": {
        "id": "gYDBnRq2ya3N"
      },
      "source": [
        "def eucl_dist_output_shape(shapes):\n",
        "    shape1, shape2 = shapes\n",
        "    shp_ = shape1[0]\n",
        "    return (shp_ , 1)"
      ],
      "execution_count": null,
      "outputs": []
    },
    {
      "cell_type": "markdown",
      "metadata": {
        "id": "MXd12cLC7yUr"
      },
      "source": [
        "### Contrastive Loss"
      ]
    },
    {
      "cell_type": "code",
      "metadata": {
        "colab": {
          "base_uri": "https://localhost:8080/"
        },
        "id": "03FE21rBs1e4",
        "outputId": "96ebffac-1f75-40ec-e332-9c44a1fa23a9"
      },
      "source": [
        "model = Model([input_a, input_b], distance)\n",
        "#train\n",
        "model.compile(loss=contrastive_loss, optimizer='adam', metrics=[accuracy])\n",
        "history = model.fit([tr_pairs[:, 0], tr_pairs[:, 1]], tr_y,\n",
        "          batch_size=128,\n",
        "          epochs=epochs,\n",
        "          validation_data=([te_pairs[:, 0], te_pairs[:, 1]], te_y))"
      ],
      "execution_count": null,
      "outputs": [
        {
          "output_type": "stream",
          "text": [
            "Epoch 1/10\n",
            "847/847 [==============================] - 43s 51ms/step - loss: 0.2182 - accuracy: 0.6830 - val_loss: 0.1236 - val_accuracy: 0.8515\n",
            "Epoch 2/10\n",
            "847/847 [==============================] - 43s 51ms/step - loss: 0.1500 - accuracy: 0.8067 - val_loss: 0.1123 - val_accuracy: 0.8702\n",
            "Epoch 3/10\n",
            "847/847 [==============================] - 43s 51ms/step - loss: 0.1339 - accuracy: 0.8374 - val_loss: 0.1032 - val_accuracy: 0.8809\n",
            "Epoch 4/10\n",
            "847/847 [==============================] - 43s 51ms/step - loss: 0.1263 - accuracy: 0.8490 - val_loss: 0.0994 - val_accuracy: 0.8864\n",
            "Epoch 5/10\n",
            "847/847 [==============================] - 43s 51ms/step - loss: 0.1241 - accuracy: 0.8521 - val_loss: 0.0976 - val_accuracy: 0.8897\n",
            "Epoch 6/10\n",
            "847/847 [==============================] - 43s 51ms/step - loss: 0.1223 - accuracy: 0.8559 - val_loss: 0.0973 - val_accuracy: 0.8919\n",
            "Epoch 7/10\n",
            "847/847 [==============================] - 43s 51ms/step - loss: 0.1207 - accuracy: 0.8565 - val_loss: 0.0975 - val_accuracy: 0.8900\n",
            "Epoch 8/10\n",
            "847/847 [==============================] - 43s 51ms/step - loss: 0.1200 - accuracy: 0.8583 - val_loss: 0.0965 - val_accuracy: 0.8911\n",
            "Epoch 9/10\n",
            "847/847 [==============================] - 43s 51ms/step - loss: 0.1195 - accuracy: 0.8578 - val_loss: 0.0974 - val_accuracy: 0.8918\n",
            "Epoch 10/10\n",
            "847/847 [==============================] - 43s 51ms/step - loss: 0.1190 - accuracy: 0.8597 - val_loss: 0.0961 - val_accuracy: 0.8927\n"
          ],
          "name": "stdout"
        }
      ]
    },
    {
      "cell_type": "code",
      "metadata": {
        "colab": {
          "base_uri": "https://localhost:8080/",
          "height": 296
        },
        "id": "d1q2XZNduc9F",
        "outputId": "375afa16-90df-4410-d318-8ad78a0086bd"
      },
      "source": [
        "import matplotlib.pyplot as plt\n",
        "plt.plot(history.history['accuracy'], label='accuracy')\n",
        "plt.plot(history.history['val_accuracy'], label = 'val_accuracy')"
      ],
      "execution_count": null,
      "outputs": [
        {
          "output_type": "execute_result",
          "data": {
            "text/plain": [
              "<matplotlib.legend.Legend at 0x7fabdbcfe990>"
            ]
          },
          "metadata": {
            "tags": []
          },
          "execution_count": 25
        },
        {
          "output_type": "display_data",
          "data": {
            "image/png": "[encoded data removed]",
            "text/plain": [
              "<Figure size 432x288 with 1 Axes>"
            ]
          },
          "metadata": {
            "tags": [],
            "needs_background": "light"
          }
        }
      ]
    },
    {
      "cell_type": "markdown",
      "metadata": {
        "id": "nwBlH-2dzMbR"
      },
      "source": [
        "Accuracy"
      ]
    },
    {
      "cell_type": "code",
      "metadata": {
        "id": "g3Y0UjRJzG-M"
      },
      "source": [
        "def compute_accuracy(y_true, y_pred):\n",
        "    pred = y_pred.ravel() < 0.5\n",
        "    return np.mean(pred == y_true)"
      ],
      "execution_count": null,
      "outputs": []
    },
    {
      "cell_type": "code",
      "metadata": {
        "id": "43UCC3SR04wp"
      },
      "source": [
        "Acc = compute_accuracy(y_test, y_pred)"
      ],
      "execution_count": null,
      "outputs": []
    },
    {
      "cell_type": "markdown",
      "metadata": {
        "id": "s6BZZRZR76__"
      },
      "source": [
        "### Triplet Loss Function"
      ]
    },
    {
      "cell_type": "code",
      "metadata": {
        "colab": {
          "base_uri": "https://localhost:8080/"
        },
        "id": "T0hsSkr638Sh",
        "outputId": "c678983e-13cf-4703-dc93-901311c2ec68"
      },
      "source": [
        "model = Model([input_a, input_b], distance)\n",
        "#train\n",
        "loss_=tfa.losses.TripletSemiHardLoss()\n",
        "model.compile(loss=loss_, optimizer='SGD', metrics=[accuracy])\n",
        "\n",
        "history = model.fit([tr_pairs[:, 0], tr_pairs[:, 1]], tr_y,\n",
        "          batch_size=128,\n",
        "          epochs=epochs,\n",
        "          validation_data=([te_pairs[:, 0], te_pairs[:, 1]], te_y))"
      ],
      "execution_count": null,
      "outputs": [
        {
          "output_type": "stream",
          "text": [
            "Epoch 1/10\n",
            "847/847 [==============================] - 80s 92ms/step - loss: 0.9855 - accuracy: 0.5010 - val_loss: 0.9148 - val_accuracy: 0.5625\n",
            "Epoch 2/10\n",
            "847/847 [==============================] - 78s 92ms/step - loss: 0.9591 - accuracy: 0.5008 - val_loss: 0.8132 - val_accuracy: 0.5718\n",
            "Epoch 3/10\n",
            "847/847 [==============================] - 78s 93ms/step - loss: 0.9175 - accuracy: 0.5175 - val_loss: 0.7629 - val_accuracy: 0.5909\n",
            "Epoch 4/10\n",
            "847/847 [==============================] - 79s 93ms/step - loss: 0.8947 - accuracy: 0.5325 - val_loss: 0.7433 - val_accuracy: 0.6053\n",
            "Epoch 5/10\n",
            "847/847 [==============================] - 79s 94ms/step - loss: 0.8780 - accuracy: 0.5410 - val_loss: 0.7321 - val_accuracy: 0.6084\n",
            "Epoch 6/10\n",
            "847/847 [==============================] - 79s 93ms/step - loss: 0.8725 - accuracy: 0.5484 - val_loss: 0.7220 - val_accuracy: 0.6189\n",
            "Epoch 7/10\n",
            "847/847 [==============================] - 79s 93ms/step - loss: 0.8653 - accuracy: 0.5518 - val_loss: 0.7197 - val_accuracy: 0.6223\n",
            "Epoch 8/10\n",
            "847/847 [==============================] - 79s 93ms/step - loss: 0.8611 - accuracy: 0.5565 - val_loss: 0.7157 - val_accuracy: 0.6259\n",
            "Epoch 9/10\n",
            "847/847 [==============================] - 79s 93ms/step - loss: 0.8557 - accuracy: 0.5586 - val_loss: 0.7123 - val_accuracy: 0.6281\n",
            "Epoch 10/10\n",
            "847/847 [==============================] - 79s 94ms/step - loss: 0.8559 - accuracy: 0.5593 - val_loss: 0.7115 - val_accuracy: 0.6227\n"
          ],
          "name": "stdout"
        }
      ]
    },
    {
      "cell_type": "code",
      "metadata": {
        "colab": {
          "base_uri": "https://localhost:8080/",
          "height": 296
        },
        "id": "t89fK10o-E7F",
        "outputId": "616bf16e-773d-4fd4-b07f-d4995772b835"
      },
      "source": [
        "import matplotlib.pyplot as plt\n",
        "plt.plot(history.history['accuracy'], label='accuracy')\n",
        "plt.plot(history.history['val_accuracy'], label = 'val_accuracy')\n",
        "plt.xlabel('Epoch')\n",
        "plt.ylabel('Accuracy')\n",
        "plt.legend(loc='lower right')"
      ],
      "execution_count": null,
      "outputs": [
        {
          "output_type": "execute_result",
          "data": {
            "text/plain": [
              "<matplotlib.legend.Legend at 0x7f0a867e6990>"
            ]
          },
          "metadata": {
            "tags": []
          },
          "execution_count": 30
        },
        {
          "output_type": "display_data",
          "data": {
            "image/png": "[encoded data removed]",
            "text/plain": [
              "<Figure size 432x288 with 1 Axes>"
            ]
          },
          "metadata": {
            "tags": [],
            "needs_background": "light"
          }
        }
      ]
    },
    {
      "cell_type": "markdown",
      "metadata": {
        "id": "vm5ubIRHVFj8"
      },
      "source": [
        "### Regularized Binary Crossentropy"
      ]
    },
    {
      "cell_type": "code",
      "metadata": {
        "colab": {
          "base_uri": "https://localhost:8080/"
        },
        "id": "Iykn3HKgPbTy",
        "outputId": "70f0cfd8-97a8-4120-9512-ab884f40d040"
      },
      "source": [
        "import tensorflow_addons as tfa\n",
        "from tensorflow.keras import regularizers\n",
        "\n",
        "def Regularied_siam(input_shape):\n",
        "   \n",
        "  input = Input(shape = input_shape)\n",
        "  \n",
        "  x = Conv2D(4, (3,3), activation = 'tanh' , kernel_regularizer=regularizers.l1_l2(l1=1e-5, l2=1e-4))(input)\n",
        "  x = AveragePooling2D(pool_size = (2,2))(x)\n",
        "  x = Dropout(0.5)(x)\n",
        "  \n",
        "  x = Conv2D(8, (3,3), activation = 'tanh' , kernel_regularizer=regularizers.l1_l2(l1=1e-5, l2=1e-4))(x)\n",
        "  x = AveragePooling2D(pool_size = (2,2))(x)\n",
        "\n",
        "  x = Flatten()(x)\n",
        "  x = Dense(10, activation = 'tanh' )(x)\n",
        "  \n",
        "  model = Model(input, x)\n",
        "  \n",
        "  model.summary()\n",
        "  return model\n",
        "\n",
        "base_network = Regularied_siam(input_shape)\n",
        "\n",
        "model = Model([input_a, input_b], distance)"
      ],
      "execution_count": null,
      "outputs": [
        {
          "output_type": "stream",
          "text": [
            "Model: \"model_13\"\n",
            "_________________________________________________________________\n",
            "Layer (type)                 Output Shape              Param #   \n",
            "=================================================================\n",
            "input_29 (InputLayer)        [(None, 28, 28, 1)]       0         \n",
            "_________________________________________________________________\n",
            "conv2d_12 (Conv2D)           (None, 26, 26, 4)         40        \n",
            "_________________________________________________________________\n",
            "average_pooling2d_12 (Averag (None, 13, 13, 4)         0         \n",
            "_________________________________________________________________\n",
            "dropout_9 (Dropout)          (None, 13, 13, 4)         0         \n",
            "_________________________________________________________________\n",
            "conv2d_13 (Conv2D)           (None, 11, 11, 8)         296       \n",
            "_________________________________________________________________\n",
            "average_pooling2d_13 (Averag (None, 5, 5, 8)           0         \n",
            "_________________________________________________________________\n",
            "flatten_7 (Flatten)          (None, 200)               0         \n",
            "_________________________________________________________________\n",
            "dense_6 (Dense)              (None, 10)                2010      \n",
            "=================================================================\n",
            "Total params: 2,346\n",
            "Trainable params: 2,346\n",
            "Non-trainable params: 0\n",
            "_________________________________________________________________\n"
          ],
          "name": "stdout"
        }
      ]
    },
    {
      "cell_type": "code",
      "metadata": {
        "colab": {
          "base_uri": "https://localhost:8080/"
        },
        "id": "Kkbbf-9VJLkW",
        "outputId": "467f74e1-be5d-4c20-cb05-6e241e895079"
      },
      "source": [
        "#train\n",
        "model.compile(loss='binary_crossentropy', optimizer='RMSprop', metrics=['accuracy'])\n",
        "\n",
        "history = model.fit([tr_pairs[:, 0], tr_pairs[:, 1]], tr_y,\n",
        "          batch_size=128,\n",
        "          epochs=epochs\n",
        "          validation_data=([te_pairs[:, 0], te_pairs[:, 1]], te_y))"
      ],
      "execution_count": null,
      "outputs": [
        {
          "output_type": "stream",
          "text": [
            "Epoch 1/10\n",
            "1875/1875 [==============================] - 281s 149ms/step - loss: 0.3362 - accuracy: 0.8723 - val_loss: 0.2920 - val_accuracy: 0.8895\n",
            "Epoch 2/10\n",
            "1875/1875 [==============================] - 279s 149ms/step - loss: 0.3039 - accuracy: 0.8836 - val_loss: 0.2944 - val_accuracy: 0.8950\n",
            "Epoch 3/10\n",
            "1875/1875 [==============================] - 278s 148ms/step - loss: 0.2829 - accuracy: 0.8907 - val_loss: 0.2909 - val_accuracy: 0.9003\n",
            "Epoch 4/10\n",
            "1875/1875 [==============================] - 278s 148ms/step - loss: 0.2811 - accuracy: 0.8907 - val_loss: 0.2982 - val_accuracy: 0.8999\n",
            "Epoch 5/10\n",
            "1875/1875 [==============================] - 278s 148ms/step - loss: 0.2755 - accuracy: 0.8914 - val_loss: 0.3026 - val_accuracy: 0.8977\n",
            "Epoch 6/10\n",
            "1875/1875 [==============================] - 278s 148ms/step - loss: 0.2770 - accuracy: 0.8915 - val_loss: 0.2936 - val_accuracy: 0.9012\n",
            "Epoch 7/10\n",
            "1875/1875 [==============================] - 278s 148ms/step - loss: 0.2725 - accuracy: 0.8926 - val_loss: 0.2857 - val_accuracy: 0.9007\n",
            "Epoch 8/10\n",
            "1875/1875 [==============================] - 278s 148ms/step - loss: 0.2667 - accuracy: 0.8965 - val_loss: 0.2790 - val_accuracy: 0.9020\n",
            "Epoch 9/10\n",
            "1875/1875 [==============================] - 278s 148ms/step - loss: 0.2662 - accuracy: 0.8929 - val_loss: 0.2149 - val_accuracy: 0.9222\n",
            "Epoch 10/10\n",
            "1875/1875 [==============================] - 278s 148ms/step - loss: 0.2420 - accuracy: 0.9078 - val_loss: 0.1884 - val_accuracy: 0.9283\n"
          ],
          "name": "stdout"
        },
        {
          "output_type": "execute_result",
          "data": {
            "text/plain": [
              "<tensorflow.python.keras.callbacks.History at 0x7f3bbc207490>"
            ]
          },
          "metadata": {
            "tags": []
          },
          "execution_count": 40
        }
      ]
    },
    {
      "cell_type": "code",
      "metadata": {
        "colab": {
          "base_uri": "https://localhost:8080/",
          "height": 296
        },
        "id": "Wgv5PVu0dh7d",
        "outputId": "2b86d1eb-cc7d-4c05-e9ce-d6f5b2aece73"
      },
      "source": [
        "import matplotlib.pyplot as plt\n",
        "plt.plot(history.history['accuracy'], label='accuracy')\n",
        "plt.plot(history.history['val_accuracy'], label = 'val_accuracy')"
      ],
      "execution_count": null,
      "outputs": [
        {
          "output_type": "execute_result",
          "data": {
            "text/plain": [
              "(0.85, 0.95)"
            ]
          },
          "metadata": {
            "tags": []
          },
          "execution_count": 52
        },
        {
          "output_type": "display_data",
          "data": {
            "image/png": "[encoded data removed]",
            "text/plain": [
              "<Figure size 432x288 with 1 Axes>"
            ]
          },
          "metadata": {
            "tags": [],
            "needs_background": "light"
          }
        }
      ]
    },
    {
      "cell_type": "code",
      "metadata": {
        "id": "nzH3-k4x11a4"
      },
      "source": [
        "def compute_accuracy(y_true, y_pred):\n",
        "    pred = y_pred.ravel() < 0.5\n",
        "    return np.mean(pred == y_true)"
      ],
      "execution_count": null,
      "outputs": []
    },
    {
      "cell_type": "code",
      "metadata": {
        "id": "jpiGA9UA2BeP"
      },
      "source": [
        "Acc = compute_accuracy(y_test, y_pred)"
      ],
      "execution_count": null,
      "outputs": []
    },
    {
      "cell_type": "markdown",
      "metadata": {
        "id": "5L-hTzDf2eVp"
      },
      "source": [
        "Predicting label for test image 5"
      ]
    },
    {
      "cell_type": "code",
      "metadata": {
        "id": "aAdWPIqM2Rwq"
      },
      "source": [
        "plot_sample(X_test, y_pred, 2)"
      ],
      "execution_count": null,
      "outputs": []
    },
    {
      "cell_type": "markdown",
      "metadata": {
        "id": "g14hBCRgpUHC"
      },
      "source": [
        "As we can see above , Adam optimizer is giving the best results."
      ]
    },
    {
      "cell_type": "markdown",
      "metadata": {
        "id": "mby8hVJpgyaZ"
      },
      "source": [
        "### Pros and Cons of Siamese Networks"
      ]
    },
    {
      "cell_type": "markdown",
      "metadata": {
        "id": "iwLBRQUnrDWH"
      },
      "source": [
        "### Pros : \n",
        "\n",
        "##### CAN BE MORE ROBUST TO EXTREME CLASS IMBALANCE :\n",
        "\n",
        "  With the aid of One-shot learning, given a few images per class is sufficient for Siamese Networks to recognize those images in the future .\n",
        "\n",
        "\n",
        "##### CAN BE GOOD TO ENSEMBLE WITH A CLASSIFIER :\n",
        "\n",
        "Given that its learning mechanism is somewhat different from Classification, simple averaging of it with a Classifier can do much better than average 2 correlated Supervised models (e.g. GBM & RF classifier)\n",
        "\n",
        "\n",
        "##### CAN YIELD BETTER EMBEDDINGS :\n",
        "\n",
        "Siamese focuses on learning embeddings (in the deeper layer) that place the same classes/concepts close together. Hence, can learn semantic similarity.\n",
        "\n",
        "### Cons :\n",
        "##### NEEDS MORE TRAINING TIME THAN NORMAL NETWORKS :\n",
        "\n",
        "Since Siamese Networks involves quadratic pairs to learn from (to see all information available) it is slower than normal classification type of learning(pointwise learning)\n",
        "\n",
        "##### DOESN'T OUTPUT PROBABILITIES :\n",
        "\n",
        "Since training involves pairwise learning, it won’t output the probabilities of the prediction, but the distance from each class"
      ]
    }
  ]
}