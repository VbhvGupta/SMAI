{
  "nbformat": 4,
  "nbformat_minor": 0,
  "metadata": {
    "colab": {
      "name": "MLP_mnist.ipynb",
      "provenance": [],
      "collapsed_sections": [
        "5rn8959iItE1",
        "qc0ok7vrLY45",
        "X4VBU9QIP_pN",
        "buHrlScgUVmv",
        "84vDZNz2Vy4z"
      ],
      "mount_file_id": "1a3xwJYPRmAMDt0_3KqsVJGnRO8C3Uwow",
      "authorship_tag": "ABX9TyM60jjqI3jPtsYkiRjCf0pW",
      "include_colab_link": true
    },
    "kernelspec": {
      "name": "python3",
      "display_name": "Python 3"
    },
    "language_info": {
      "name": "python"
    }
  },
  "cells": [
    {
      "cell_type": "markdown",
      "metadata": {
        "id": "view-in-github",
        "colab_type": "text"
      },
      "source": [
        "<a href=\"https://colab.research.google.com/github/whynotkush/SMAI/blob/main/MLP_mnist.ipynb\" target=\"_parent\"><img src=\"https://colab.research.google.com/assets/colab-badge.svg\" alt=\"Open In Colab\"/></a>"
      ]
    },
    {
      "cell_type": "markdown",
      "metadata": {
        "id": "CTbrXwvOBQFu"
      },
      "source": [
        "<h2 style='color:blue' align='center'>MNIST Image Classification Using Multilayer Perceptron (MLP)</h2>"
      ]
    },
    {
      "cell_type": "markdown",
      "metadata": {
        "id": "B_tiOk1IBx0O"
      },
      "source": [
        "In this notebook, we will classify small images MNIST dataset from tensorflow keras datasets. "
      ]
    },
    {
      "cell_type": "code",
      "metadata": {
        "id": "-WIoxW0VeAMP"
      },
      "source": [
        "# Imports\n",
        "import tensorflow\n",
        "from tensorflow.keras.utils import to_categorical\n",
        "from tensorflow.keras.models import Sequential\n",
        "from tensorflow.keras.layers import Dense"
      ],
      "execution_count": null,
      "outputs": []
    },
    {
      "cell_type": "markdown",
      "metadata": {
        "id": "InQae-QjCIf3"
      },
      "source": [
        "*Load the data*"
      ]
    },
    {
      "cell_type": "code",
      "metadata": {
        "id": "qaEUbRapoeeZ"
      },
      "source": [
        "from tensorflow.keras.datasets import mnist\n",
        "(X_train, y_train), (x_test, y_test) = mnist.load_data()"
      ],
      "execution_count": null,
      "outputs": []
    },
    {
      "cell_type": "code",
      "metadata": {
        "colab": {
          "base_uri": "https://localhost:8080/"
        },
        "id": "JK105Ol6xr5L",
        "outputId": "a5faf6af-4ba5-4d9f-cd7e-24271455c027"
      },
      "source": [
        "X_train.shape"
      ],
      "execution_count": null,
      "outputs": [
        {
          "output_type": "execute_result",
          "data": {
            "text/plain": [
              "(60000, 28, 28)"
            ]
          },
          "metadata": {
            "tags": []
          },
          "execution_count": 233
        }
      ]
    },
    {
      "cell_type": "code",
      "metadata": {
        "colab": {
          "base_uri": "https://localhost:8080/"
        },
        "id": "WJotbE9Oxu_6",
        "outputId": "7192a553-e95d-4ba0-82b6-377cb69a0f58"
      },
      "source": [
        "y_train.shape"
      ],
      "execution_count": null,
      "outputs": [
        {
          "output_type": "execute_result",
          "data": {
            "text/plain": [
              "(60000,)"
            ]
          },
          "metadata": {
            "tags": []
          },
          "execution_count": 234
        }
      ]
    },
    {
      "cell_type": "markdown",
      "metadata": {
        "id": "3TLA1HlfsGX5"
      },
      "source": [
        "Let's plot some images to see what they are"
      ]
    },
    {
      "cell_type": "code",
      "metadata": {
        "id": "YmXig58fsFfy"
      },
      "source": [
        "import matplotlib.pyplot as plt\n",
        "def plot_sample(X, y, index):\n",
        "    plt.figure()\n",
        "    plt.imshow(X[index])\n",
        "    plt.grid(False)\n",
        "    plt.axis('off')\n",
        "    plt.title(\"Label : \"+str(y[index]))"
      ],
      "execution_count": null,
      "outputs": []
    },
    {
      "cell_type": "code",
      "metadata": {
        "colab": {
          "base_uri": "https://localhost:8080/",
          "height": 264
        },
        "id": "WLobVXTAsLNU",
        "outputId": "744e4089-d2ed-44ca-8d06-06e6872634ab"
      },
      "source": [
        "plot_sample(X_train, y_train, 0)"
      ],
      "execution_count": null,
      "outputs": [
        {
          "output_type": "display_data",
          "data": {
            "image/png": "[encoded data removed]",
            "text/plain": [
              "<Figure size 432x288 with 1 Axes>"
            ]
          },
          "metadata": {
            "tags": [],
            "needs_background": "light"
          }
        }
      ]
    },
    {
      "cell_type": "markdown",
      "metadata": {
        "id": "P0v9Zqhf4Sb4"
      },
      "source": [
        "## Part 1"
      ]
    },
    {
      "cell_type": "code",
      "metadata": {
        "colab": {
          "base_uri": "https://localhost:8080/"
        },
        "id": "rYgiFxeBop0i",
        "outputId": "210d5de9-56ed-4aaa-e957-a7da7c538adb"
      },
      "source": [
        "import numpy as np\n",
        "labels = np.unique(y_train)\n",
        "print(\"labels :\",labels)"
      ],
      "execution_count": null,
      "outputs": [
        {
          "output_type": "stream",
          "text": [
            "labels : [0 1 2 3 4 5 6 7 8 9]\n"
          ],
          "name": "stdout"
        }
      ]
    },
    {
      "cell_type": "markdown",
      "metadata": {
        "id": "r3rB136NCOkV"
      },
      "source": [
        "*converting y into one-hot form*"
      ]
    },
    {
      "cell_type": "code",
      "metadata": {
        "id": "E6hWyWxupGNx"
      },
      "source": [
        "from tensorflow.keras.utils import to_categorical\n",
        "train_labels = to_categorical(y_train)\n",
        "test_labels = to_categorical(y_test)"
      ],
      "execution_count": null,
      "outputs": []
    },
    {
      "cell_type": "code",
      "metadata": {
        "colab": {
          "base_uri": "https://localhost:8080/"
        },
        "id": "PBFao2lkpTGU",
        "outputId": "3e341f5a-3dfd-4981-8369-274acbc3a005"
      },
      "source": [
        "train_labels.shape"
      ],
      "execution_count": null,
      "outputs": [
        {
          "output_type": "execute_result",
          "data": {
            "text/plain": [
              "(60000, 10)"
            ]
          },
          "metadata": {
            "tags": []
          },
          "execution_count": 239
        }
      ]
    },
    {
      "cell_type": "code",
      "metadata": {
        "colab": {
          "base_uri": "https://localhost:8080/"
        },
        "id": "P4qzVH4ZpZ7e",
        "outputId": "f545466c-12ea-4dfc-bee7-badce674af88"
      },
      "source": [
        "test_labels.shape"
      ],
      "execution_count": null,
      "outputs": [
        {
          "output_type": "execute_result",
          "data": {
            "text/plain": [
              "(10000, 10)"
            ]
          },
          "metadata": {
            "tags": []
          },
          "execution_count": 240
        }
      ]
    },
    {
      "cell_type": "markdown",
      "metadata": {
        "id": "RdgXfBsDCRsp"
      },
      "source": [
        "*Reshape the data - MLPs takes single list as argument*\n",
        "\n",
        "*Reshape to 28 x 28 = 784 features*"
      ]
    },
    {
      "cell_type": "code",
      "metadata": {
        "id": "k5lZOg5dp_uL"
      },
      "source": [
        "X_train = X_train.reshape(X_train.shape[0], 784)\n",
        "X_test = x_test.reshape(X_test.shape[0], 784)"
      ],
      "execution_count": null,
      "outputs": []
    },
    {
      "cell_type": "code",
      "metadata": {
        "colab": {
          "base_uri": "https://localhost:8080/"
        },
        "id": "vwxFFJ7mqlFJ",
        "outputId": "26c576b3-b6be-49e3-d67c-332daa97e2eb"
      },
      "source": [
        "X_train.shape"
      ],
      "execution_count": null,
      "outputs": [
        {
          "output_type": "execute_result",
          "data": {
            "text/plain": [
              "(60000, 784)"
            ]
          },
          "metadata": {
            "tags": []
          },
          "execution_count": 242
        }
      ]
    },
    {
      "cell_type": "code",
      "metadata": {
        "colab": {
          "base_uri": "https://localhost:8080/"
        },
        "id": "xHHVLez_qny-",
        "outputId": "846bc1dc-aa83-4eea-b0e4-a07a22c84fd9"
      },
      "source": [
        "X_test.shape"
      ],
      "execution_count": null,
      "outputs": [
        {
          "output_type": "execute_result",
          "data": {
            "text/plain": [
              "(10000, 784)"
            ]
          },
          "metadata": {
            "tags": []
          },
          "execution_count": 243
        }
      ]
    },
    {
      "cell_type": "markdown",
      "metadata": {
        "id": "T1swq3sZCedH"
      },
      "source": [
        "*Convert into greyscale*"
      ]
    },
    {
      "cell_type": "code",
      "metadata": {
        "id": "ROl4lJcP5HQj"
      },
      "source": [
        "X_train = X_train.astype('float32')\n",
        "X_test = X_test.astype('float32')\n",
        "X_train /= 255\n",
        "X_test /= 255"
      ],
      "execution_count": null,
      "outputs": []
    },
    {
      "cell_type": "code",
      "metadata": {
        "id": "ZpQicLm_4lZJ"
      },
      "source": [
        "input_size = 784"
      ],
      "execution_count": null,
      "outputs": []
    },
    {
      "cell_type": "code",
      "metadata": {
        "id": "JLhWilq5qvrS"
      },
      "source": [
        "from tensorflow.keras import datasets, layers, models\n",
        "from tensorflow.keras.layers import Activation, Dropout\n",
        "\n",
        "# Parameters \n",
        "dropout = 0.45\n",
        "\n",
        "# MLP ReLU Dropout \n",
        "model = Sequential([\n",
        "\n",
        "layers.Dense(256, input_dim=input_size, activation='relu') ,\n",
        "layers.Dropout(dropout),\n",
        "\n",
        "layers.Dense(256,activation='relu' ),\n",
        "layers.Dropout(dropout),\n",
        "\n",
        "layers.Dense(10, activation='softmax')\n",
        "\n",
        "])"
      ],
      "execution_count": null,
      "outputs": []
    },
    {
      "cell_type": "code",
      "metadata": {
        "id": "jLE00Pog6cid"
      },
      "source": [
        "model.compile(loss='categorical_crossentropy', optimizer='adam', metrics=['accuracy'])"
      ],
      "execution_count": null,
      "outputs": []
    },
    {
      "cell_type": "code",
      "metadata": {
        "colab": {
          "base_uri": "https://localhost:8080/"
        },
        "id": "XBFCOzEN6itK",
        "outputId": "1bbc7b44-221c-47af-b228-c0d1a472cb91"
      },
      "source": [
        "model.fit(X_train, train_labels, epochs=20, batch_size=600)"
      ],
      "execution_count": null,
      "outputs": [
        {
          "output_type": "stream",
          "text": [
            "Epoch 1/20\n",
            "100/100 [==============================] - 2s 18ms/step - loss: 0.0705 - accuracy: 0.9783\n",
            "Epoch 2/20\n",
            "100/100 [==============================] - 2s 17ms/step - loss: 0.0628 - accuracy: 0.9792\n",
            "Epoch 3/20\n",
            "100/100 [==============================] - 2s 17ms/step - loss: 0.0592 - accuracy: 0.9806\n",
            "Epoch 4/20\n",
            "100/100 [==============================] - 2s 17ms/step - loss: 0.0568 - accuracy: 0.9826\n",
            "Epoch 5/20\n",
            "100/100 [==============================] - 2s 17ms/step - loss: 0.0558 - accuracy: 0.9816\n",
            "Epoch 6/20\n",
            "100/100 [==============================] - 2s 17ms/step - loss: 0.0518 - accuracy: 0.9833\n",
            "Epoch 7/20\n",
            "100/100 [==============================] - 2s 16ms/step - loss: 0.0507 - accuracy: 0.9837\n",
            "Epoch 8/20\n",
            "100/100 [==============================] - 2s 17ms/step - loss: 0.0442 - accuracy: 0.9856\n",
            "Epoch 9/20\n",
            "100/100 [==============================] - 2s 17ms/step - loss: 0.0459 - accuracy: 0.9855\n",
            "Epoch 10/20\n",
            "100/100 [==============================] - 2s 17ms/step - loss: 0.0434 - accuracy: 0.9864\n",
            "Epoch 11/20\n",
            "100/100 [==============================] - 2s 17ms/step - loss: 0.0395 - accuracy: 0.9867\n",
            "Epoch 12/20\n",
            "100/100 [==============================] - 2s 17ms/step - loss: 0.0423 - accuracy: 0.9856\n",
            "Epoch 13/20\n",
            "100/100 [==============================] - 2s 17ms/step - loss: 0.0389 - accuracy: 0.9872\n",
            "Epoch 14/20\n",
            "100/100 [==============================] - 2s 18ms/step - loss: 0.0387 - accuracy: 0.9873\n",
            "Epoch 15/20\n",
            "100/100 [==============================] - 2s 17ms/step - loss: 0.0374 - accuracy: 0.9878\n",
            "Epoch 16/20\n",
            "100/100 [==============================] - 2s 17ms/step - loss: 0.0391 - accuracy: 0.9868\n",
            "Epoch 17/20\n",
            "100/100 [==============================] - 2s 17ms/step - loss: 0.0371 - accuracy: 0.9883\n",
            "Epoch 18/20\n",
            "100/100 [==============================] - 2s 17ms/step - loss: 0.0364 - accuracy: 0.9883\n",
            "Epoch 19/20\n",
            "100/100 [==============================] - 2s 17ms/step - loss: 0.0328 - accuracy: 0.9893\n",
            "Epoch 20/20\n",
            "100/100 [==============================] - 2s 17ms/step - loss: 0.0343 - accuracy: 0.9884\n"
          ],
          "name": "stdout"
        },
        {
          "output_type": "execute_result",
          "data": {
            "text/plain": [
              "<tensorflow.python.keras.callbacks.History at 0x7fbe4613eb50>"
            ]
          },
          "metadata": {
            "tags": []
          },
          "execution_count": 137
        }
      ]
    },
    {
      "cell_type": "code",
      "metadata": {
        "colab": {
          "base_uri": "https://localhost:8080/"
        },
        "id": "kKLwTwp38hfW",
        "outputId": "f5855bd9-9bb4-4b7c-f923-1e959cad711c"
      },
      "source": [
        "res_ = model.evaluate(X_test,test_labels)"
      ],
      "execution_count": null,
      "outputs": [
        {
          "output_type": "stream",
          "text": [
            "313/313 [==============================] - 1s 1ms/step - loss: 0.0700 - accuracy: 0.9830\n"
          ],
          "name": "stdout"
        }
      ]
    },
    {
      "cell_type": "code",
      "metadata": {
        "colab": {
          "base_uri": "https://localhost:8080/"
        },
        "id": "9cGZYiad81mT",
        "outputId": "75b879fd-70ca-4d92-a594-745ed52e711d"
      },
      "source": [
        "print(\"Loss : \" , res_[0])"
      ],
      "execution_count": null,
      "outputs": [
        {
          "output_type": "stream",
          "text": [
            "Loss :  0.06995627284049988\n"
          ],
          "name": "stdout"
        }
      ]
    },
    {
      "cell_type": "code",
      "metadata": {
        "colab": {
          "base_uri": "https://localhost:8080/"
        },
        "id": "enNokCUl86sv",
        "outputId": "ec38ffac-3dd2-4801-f968-b149214354d8"
      },
      "source": [
        "print(\"Accuracy : \" , res_[1])"
      ],
      "execution_count": null,
      "outputs": [
        {
          "output_type": "stream",
          "text": [
            "Accuracy :  0.9829999804496765\n"
          ],
          "name": "stdout"
        }
      ]
    },
    {
      "cell_type": "markdown",
      "metadata": {
        "id": "YNOGwe1RHUzF"
      },
      "source": [
        "### Testing with different optimizers"
      ]
    },
    {
      "cell_type": "markdown",
      "metadata": {
        "id": "5rn8959iItE1"
      },
      "source": [
        "#### RMS prop"
      ]
    },
    {
      "cell_type": "code",
      "metadata": {
        "id": "iV-6MzoYHSIG"
      },
      "source": [
        "model.compile(loss='categorical_crossentropy', optimizer='RMSprop', metrics=['accuracy'])"
      ],
      "execution_count": null,
      "outputs": []
    },
    {
      "cell_type": "code",
      "metadata": {
        "colab": {
          "base_uri": "https://localhost:8080/"
        },
        "id": "l5eHXUIFHqg4",
        "outputId": "511c281d-f7c9-435d-ec29-d444f97dfeca"
      },
      "source": [
        "model.fit(X_train, train_labels, epochs=20, batch_size=600)"
      ],
      "execution_count": null,
      "outputs": [
        {
          "output_type": "stream",
          "text": [
            "Epoch 1/20\n",
            "100/100 [==============================] - 2s 18ms/step - loss: 0.0341 - accuracy: 0.9886\n",
            "Epoch 2/20\n",
            "100/100 [==============================] - 2s 18ms/step - loss: 0.0312 - accuracy: 0.9895\n",
            "Epoch 3/20\n",
            "100/100 [==============================] - 2s 18ms/step - loss: 0.0293 - accuracy: 0.9902\n",
            "Epoch 4/20\n",
            "100/100 [==============================] - 2s 17ms/step - loss: 0.0311 - accuracy: 0.9896\n",
            "Epoch 5/20\n",
            "100/100 [==============================] - 2s 18ms/step - loss: 0.0303 - accuracy: 0.9900\n",
            "Epoch 6/20\n",
            "100/100 [==============================] - 2s 18ms/step - loss: 0.0293 - accuracy: 0.9903\n",
            "Epoch 7/20\n",
            "100/100 [==============================] - 2s 18ms/step - loss: 0.0298 - accuracy: 0.9901\n",
            "Epoch 8/20\n",
            "100/100 [==============================] - 2s 18ms/step - loss: 0.0301 - accuracy: 0.9903\n",
            "Epoch 9/20\n",
            "100/100 [==============================] - 2s 18ms/step - loss: 0.0279 - accuracy: 0.9909\n",
            "Epoch 10/20\n",
            "100/100 [==============================] - 2s 18ms/step - loss: 0.0272 - accuracy: 0.9915\n",
            "Epoch 11/20\n",
            "100/100 [==============================] - 2s 18ms/step - loss: 0.0297 - accuracy: 0.9901\n",
            "Epoch 12/20\n",
            "100/100 [==============================] - 2s 18ms/step - loss: 0.0297 - accuracy: 0.9904\n",
            "Epoch 13/20\n",
            "100/100 [==============================] - 2s 18ms/step - loss: 0.0270 - accuracy: 0.9909\n",
            "Epoch 14/20\n",
            "100/100 [==============================] - 2s 18ms/step - loss: 0.0274 - accuracy: 0.9912\n",
            "Epoch 15/20\n",
            "100/100 [==============================] - 2s 18ms/step - loss: 0.0266 - accuracy: 0.9917\n",
            "Epoch 16/20\n",
            "100/100 [==============================] - 2s 18ms/step - loss: 0.0291 - accuracy: 0.9908\n",
            "Epoch 17/20\n",
            "100/100 [==============================] - 2s 18ms/step - loss: 0.0241 - accuracy: 0.9928\n",
            "Epoch 18/20\n",
            "100/100 [==============================] - 2s 18ms/step - loss: 0.0261 - accuracy: 0.9914\n",
            "Epoch 19/20\n",
            "100/100 [==============================] - 2s 18ms/step - loss: 0.0249 - accuracy: 0.9926\n",
            "Epoch 20/20\n",
            "100/100 [==============================] - 2s 18ms/step - loss: 0.0237 - accuracy: 0.9923\n"
          ],
          "name": "stdout"
        },
        {
          "output_type": "execute_result",
          "data": {
            "text/plain": [
              "<tensorflow.python.keras.callbacks.History at 0x7fbe51084e10>"
            ]
          },
          "metadata": {
            "tags": []
          },
          "execution_count": 153
        }
      ]
    },
    {
      "cell_type": "code",
      "metadata": {
        "colab": {
          "base_uri": "https://localhost:8080/"
        },
        "id": "r6qrQcE6IK-b",
        "outputId": "91b14e85-522e-4ec5-fb92-d88ae8ae7556"
      },
      "source": [
        "res_rms = model.evaluate(X_test,test_labels)"
      ],
      "execution_count": null,
      "outputs": [
        {
          "output_type": "stream",
          "text": [
            "313/313 [==============================] - 1s 1ms/step - loss: 0.0953 - accuracy: 0.9830\n"
          ],
          "name": "stdout"
        }
      ]
    },
    {
      "cell_type": "code",
      "metadata": {
        "colab": {
          "base_uri": "https://localhost:8080/"
        },
        "id": "IqVGwnXMIeS8",
        "outputId": "e657f607-c3df-424a-f0a7-8ec5f394eb96"
      },
      "source": [
        "print(\"Loss : \" , res_rms[0])"
      ],
      "execution_count": null,
      "outputs": [
        {
          "output_type": "stream",
          "text": [
            "Loss :  0.09525398164987564\n"
          ],
          "name": "stdout"
        }
      ]
    },
    {
      "cell_type": "code",
      "metadata": {
        "colab": {
          "base_uri": "https://localhost:8080/"
        },
        "id": "BdU3QkGnIkwN",
        "outputId": "9d27c39e-61d4-4cf5-c060-51df2db844cc"
      },
      "source": [
        "print(\"Accuracy : \" , res_rms[1])"
      ],
      "execution_count": null,
      "outputs": [
        {
          "output_type": "stream",
          "text": [
            "Accuracy :  0.9829999804496765\n"
          ],
          "name": "stdout"
        }
      ]
    },
    {
      "cell_type": "markdown",
      "metadata": {
        "id": "62LbgFF9JSTd"
      },
      "source": [
        "#### SGD with momentum"
      ]
    },
    {
      "cell_type": "code",
      "metadata": {
        "id": "cQr2FIfiKPh7"
      },
      "source": [
        "opt = tensorflow.keras.optimizers.SGD(learning_rate=0.1 , momentum = 0.9)"
      ],
      "execution_count": null,
      "outputs": []
    },
    {
      "cell_type": "code",
      "metadata": {
        "id": "U_JCQKy_Klup"
      },
      "source": [
        "model.compile(loss='categorical_crossentropy', optimizer=opt, metrics=['accuracy'])"
      ],
      "execution_count": null,
      "outputs": []
    },
    {
      "cell_type": "code",
      "metadata": {
        "colab": {
          "base_uri": "https://localhost:8080/"
        },
        "id": "aCds2c8QKyI0",
        "outputId": "1efe11cd-f175-4943-ef76-1d3a54bf01fe"
      },
      "source": [
        "model.fit(X_train, train_labels, epochs=20, batch_size=600)"
      ],
      "execution_count": null,
      "outputs": [
        {
          "output_type": "stream",
          "text": [
            "Epoch 1/20\n",
            "100/100 [==============================] - 2s 16ms/step - loss: 0.0281 - accuracy: 0.9911\n",
            "Epoch 2/20\n",
            "100/100 [==============================] - 2s 17ms/step - loss: 0.0322 - accuracy: 0.9896\n",
            "Epoch 3/20\n",
            "100/100 [==============================] - 2s 16ms/step - loss: 0.0325 - accuracy: 0.9889\n",
            "Epoch 4/20\n",
            "100/100 [==============================] - 2s 17ms/step - loss: 0.0302 - accuracy: 0.9898\n",
            "Epoch 5/20\n",
            "100/100 [==============================] - 2s 17ms/step - loss: 0.0305 - accuracy: 0.9897\n",
            "Epoch 6/20\n",
            "100/100 [==============================] - 2s 16ms/step - loss: 0.0291 - accuracy: 0.9906\n",
            "Epoch 7/20\n",
            "100/100 [==============================] - 2s 16ms/step - loss: 0.0284 - accuracy: 0.9908\n",
            "Epoch 8/20\n",
            "100/100 [==============================] - 2s 16ms/step - loss: 0.0277 - accuracy: 0.9905\n",
            "Epoch 9/20\n",
            "100/100 [==============================] - 2s 16ms/step - loss: 0.0266 - accuracy: 0.9913\n",
            "Epoch 10/20\n",
            "100/100 [==============================] - 2s 16ms/step - loss: 0.0291 - accuracy: 0.9903\n",
            "Epoch 11/20\n",
            "100/100 [==============================] - 2s 16ms/step - loss: 0.0288 - accuracy: 0.9903\n",
            "Epoch 12/20\n",
            "100/100 [==============================] - 2s 16ms/step - loss: 0.0264 - accuracy: 0.9912\n",
            "Epoch 13/20\n",
            "100/100 [==============================] - 2s 16ms/step - loss: 0.0249 - accuracy: 0.9917\n",
            "Epoch 14/20\n",
            "100/100 [==============================] - 2s 16ms/step - loss: 0.0248 - accuracy: 0.9917\n",
            "Epoch 15/20\n",
            "100/100 [==============================] - 2s 16ms/step - loss: 0.0263 - accuracy: 0.9916\n",
            "Epoch 16/20\n",
            "100/100 [==============================] - 2s 16ms/step - loss: 0.0265 - accuracy: 0.9914\n",
            "Epoch 17/20\n",
            "100/100 [==============================] - 2s 17ms/step - loss: 0.0221 - accuracy: 0.9931\n",
            "Epoch 18/20\n",
            "100/100 [==============================] - 2s 16ms/step - loss: 0.0239 - accuracy: 0.9919\n",
            "Epoch 19/20\n",
            "100/100 [==============================] - 2s 16ms/step - loss: 0.0242 - accuracy: 0.9924\n",
            "Epoch 20/20\n",
            "100/100 [==============================] - 2s 16ms/step - loss: 0.0224 - accuracy: 0.9924\n"
          ],
          "name": "stdout"
        },
        {
          "output_type": "execute_result",
          "data": {
            "text/plain": [
              "<tensorflow.python.keras.callbacks.History at 0x7fbe50fd9bd0>"
            ]
          },
          "metadata": {
            "tags": []
          },
          "execution_count": 162
        }
      ]
    },
    {
      "cell_type": "code",
      "metadata": {
        "colab": {
          "base_uri": "https://localhost:8080/"
        },
        "id": "zsxg9X6RLKmu",
        "outputId": "7d05149d-d880-45c3-faa5-3b3f832be21e"
      },
      "source": [
        "res_sgd_m = model.evaluate(X_test,test_labels)"
      ],
      "execution_count": null,
      "outputs": [
        {
          "output_type": "stream",
          "text": [
            "313/313 [==============================] - 1s 1ms/step - loss: 0.0771 - accuracy: 0.9833\n"
          ],
          "name": "stdout"
        }
      ]
    },
    {
      "cell_type": "code",
      "metadata": {
        "colab": {
          "base_uri": "https://localhost:8080/"
        },
        "id": "mcw6OaP2LSp4",
        "outputId": "178ce38d-9f47-4010-f8f0-0df64a5d95b3"
      },
      "source": [
        "print(\"Loss : \" , res_sgd_m[0])"
      ],
      "execution_count": null,
      "outputs": [
        {
          "output_type": "stream",
          "text": [
            "Loss :  0.07706351578235626\n"
          ],
          "name": "stdout"
        }
      ]
    },
    {
      "cell_type": "code",
      "metadata": {
        "colab": {
          "base_uri": "https://localhost:8080/"
        },
        "id": "_b7H9k2bLV8b",
        "outputId": "726ad976-a271-42fd-a3ab-ed5b16a36e73"
      },
      "source": [
        "print(\"Accuracy : \" , res_sgd_m[1])"
      ],
      "execution_count": null,
      "outputs": [
        {
          "output_type": "stream",
          "text": [
            "Loss :  0.983299970626831\n"
          ],
          "name": "stdout"
        }
      ]
    },
    {
      "cell_type": "markdown",
      "metadata": {
        "id": "qc0ok7vrLY45"
      },
      "source": [
        "#### SGD without Momentum"
      ]
    },
    {
      "cell_type": "code",
      "metadata": {
        "id": "DhVPd6xcLcT5"
      },
      "source": [
        "opt_ = tensorflow.keras.optimizers.SGD(learning_rate = 0.1 , momentum = 0.0)"
      ],
      "execution_count": null,
      "outputs": []
    },
    {
      "cell_type": "code",
      "metadata": {
        "id": "AXpiKla5LlIg"
      },
      "source": [
        "model.compile(loss='categorical_crossentropy', optimizer=opt_, metrics=['accuracy'])"
      ],
      "execution_count": null,
      "outputs": []
    },
    {
      "cell_type": "code",
      "metadata": {
        "colab": {
          "base_uri": "https://localhost:8080/"
        },
        "id": "DIqeOLRJLpmZ",
        "outputId": "3416c8d5-9b3a-4aed-dcf9-e1063ab5e562"
      },
      "source": [
        "model.fit(X_train, train_labels, epochs=20, batch_size=600)"
      ],
      "execution_count": null,
      "outputs": [
        {
          "output_type": "stream",
          "text": [
            "Epoch 1/20\n",
            "100/100 [==============================] - 2s 17ms/step - loss: 0.0201 - accuracy: 0.9929\n",
            "Epoch 2/20\n",
            "100/100 [==============================] - 2s 16ms/step - loss: 0.0176 - accuracy: 0.9944\n",
            "Epoch 3/20\n",
            "100/100 [==============================] - 2s 16ms/step - loss: 0.0163 - accuracy: 0.9947\n",
            "Epoch 4/20\n",
            "100/100 [==============================] - 2s 16ms/step - loss: 0.0143 - accuracy: 0.9953\n",
            "Epoch 5/20\n",
            "100/100 [==============================] - 2s 16ms/step - loss: 0.0148 - accuracy: 0.9954\n",
            "Epoch 6/20\n",
            "100/100 [==============================] - 2s 16ms/step - loss: 0.0141 - accuracy: 0.9953\n",
            "Epoch 7/20\n",
            "100/100 [==============================] - 2s 16ms/step - loss: 0.0130 - accuracy: 0.9956\n",
            "Epoch 8/20\n",
            "100/100 [==============================] - 2s 17ms/step - loss: 0.0123 - accuracy: 0.9956\n",
            "Epoch 9/20\n",
            "100/100 [==============================] - 2s 16ms/step - loss: 0.0138 - accuracy: 0.9954\n",
            "Epoch 10/20\n",
            "100/100 [==============================] - 2s 16ms/step - loss: 0.0146 - accuracy: 0.9955\n",
            "Epoch 11/20\n",
            "100/100 [==============================] - 2s 16ms/step - loss: 0.0141 - accuracy: 0.9952\n",
            "Epoch 12/20\n",
            "100/100 [==============================] - 2s 16ms/step - loss: 0.0120 - accuracy: 0.9960\n",
            "Epoch 13/20\n",
            "100/100 [==============================] - 2s 16ms/step - loss: 0.0135 - accuracy: 0.9957\n",
            "Epoch 14/20\n",
            "100/100 [==============================] - 2s 16ms/step - loss: 0.0129 - accuracy: 0.9959\n",
            "Epoch 15/20\n",
            "100/100 [==============================] - 2s 16ms/step - loss: 0.0122 - accuracy: 0.9959\n",
            "Epoch 16/20\n",
            "100/100 [==============================] - 2s 16ms/step - loss: 0.0132 - accuracy: 0.9956\n",
            "Epoch 17/20\n",
            "100/100 [==============================] - 2s 16ms/step - loss: 0.0116 - accuracy: 0.9964\n",
            "Epoch 18/20\n",
            "100/100 [==============================] - 2s 16ms/step - loss: 0.0129 - accuracy: 0.9957\n",
            "Epoch 19/20\n",
            "100/100 [==============================] - 2s 16ms/step - loss: 0.0130 - accuracy: 0.9954\n",
            "Epoch 20/20\n",
            "100/100 [==============================] - 2s 16ms/step - loss: 0.0123 - accuracy: 0.9959\n"
          ],
          "name": "stdout"
        },
        {
          "output_type": "execute_result",
          "data": {
            "text/plain": [
              "<tensorflow.python.keras.callbacks.History at 0x7fbe48491a10>"
            ]
          },
          "metadata": {
            "tags": []
          },
          "execution_count": 168
        }
      ]
    },
    {
      "cell_type": "code",
      "metadata": {
        "colab": {
          "base_uri": "https://localhost:8080/"
        },
        "id": "m7kb7enpL2zS",
        "outputId": "eb014be3-1a43-47fe-9c0a-85123415654f"
      },
      "source": [
        "res_sgd = model.evaluate(X_test,test_labels)"
      ],
      "execution_count": null,
      "outputs": [
        {
          "output_type": "stream",
          "text": [
            "313/313 [==============================] - 1s 1ms/step - loss: 0.0806 - accuracy: 0.9846\n"
          ],
          "name": "stdout"
        }
      ]
    },
    {
      "cell_type": "code",
      "metadata": {
        "colab": {
          "base_uri": "https://localhost:8080/"
        },
        "id": "_bON9gKQL4RA",
        "outputId": "4324046e-5410-4652-f52c-98cd8989d233"
      },
      "source": [
        "print(\"Loss : \" , res_sgd[0])"
      ],
      "execution_count": null,
      "outputs": [
        {
          "output_type": "stream",
          "text": [
            "Loss :  0.08064835518598557\n"
          ],
          "name": "stdout"
        }
      ]
    },
    {
      "cell_type": "code",
      "metadata": {
        "colab": {
          "base_uri": "https://localhost:8080/"
        },
        "id": "b2P-LUhZL7yw",
        "outputId": "08e1296f-63d5-4d17-bc01-c980f69afbdc"
      },
      "source": [
        "print(\"Accuracy : \" , res_sgd[1])"
      ],
      "execution_count": null,
      "outputs": [
        {
          "output_type": "stream",
          "text": [
            "Loss :  0.9846000075340271\n"
          ],
          "name": "stdout"
        }
      ]
    },
    {
      "cell_type": "markdown",
      "metadata": {
        "id": "TCEjXDMYOSQ1"
      },
      "source": [
        "### Trying with different weight initialisations"
      ]
    },
    {
      "cell_type": "markdown",
      "metadata": {
        "id": "X4VBU9QIP_pN"
      },
      "source": [
        "#### Xavier uniform OR Glorot uniform"
      ]
    },
    {
      "cell_type": "code",
      "metadata": {
        "id": "vPFl72EJRbhn"
      },
      "source": [
        "initializer = tensorflow.keras.initializers.GlorotUniform()"
      ],
      "execution_count": null,
      "outputs": []
    },
    {
      "cell_type": "code",
      "metadata": {
        "id": "AVpMvKjeR2-A"
      },
      "source": [
        "# Parameters \n",
        "dropout = 0.45\n",
        "\n",
        "# MLP ReLU Dropout \n",
        "model_xavier = Sequential([\n",
        "\n",
        "layers.Dense(256, input_dim=input_size, activation='relu',kernel_initializer=initializer) ,\n",
        "layers.Dropout(dropout),\n",
        "\n",
        "layers.Dense(256,activation='relu',kernel_initializer=initializer ),\n",
        "layers.Dropout(dropout),\n",
        "\n",
        "layers.Dense(10 , activation='softmax')\n",
        "\n",
        "])"
      ],
      "execution_count": null,
      "outputs": []
    },
    {
      "cell_type": "code",
      "metadata": {
        "id": "eV1gKKA4TWMt"
      },
      "source": [
        "opt = tensorflow.keras.optimizers.SGD(learning_rate=0.1 , momentum = 0.9)\n",
        "model_xavier.compile(loss='categorical_crossentropy', optimizer=opt, metrics=['accuracy'])"
      ],
      "execution_count": null,
      "outputs": []
    },
    {
      "cell_type": "code",
      "metadata": {
        "colab": {
          "base_uri": "https://localhost:8080/"
        },
        "id": "q6jn3NIxTppN",
        "outputId": "321232ef-2db5-468c-bb29-801a397f6b5f"
      },
      "source": [
        "model_xavier.fit(X_train, train_labels, epochs=20, batch_size=600)"
      ],
      "execution_count": null,
      "outputs": [
        {
          "output_type": "stream",
          "text": [
            "Epoch 1/20\n",
            "100/100 [==============================] - 2s 17ms/step - loss: 1.0829 - accuracy: 0.6370\n",
            "Epoch 2/20\n",
            "100/100 [==============================] - 2s 17ms/step - loss: 0.2701 - accuracy: 0.9191\n",
            "Epoch 3/20\n",
            "100/100 [==============================] - 2s 17ms/step - loss: 0.2093 - accuracy: 0.9373\n",
            "Epoch 4/20\n",
            "100/100 [==============================] - 2s 16ms/step - loss: 0.1700 - accuracy: 0.9489\n",
            "Epoch 5/20\n",
            "100/100 [==============================] - 2s 16ms/step - loss: 0.1547 - accuracy: 0.9537\n",
            "Epoch 6/20\n",
            "100/100 [==============================] - 2s 16ms/step - loss: 0.1360 - accuracy: 0.9592\n",
            "Epoch 7/20\n",
            "100/100 [==============================] - 2s 16ms/step - loss: 0.1296 - accuracy: 0.9603\n",
            "Epoch 8/20\n",
            "100/100 [==============================] - 2s 16ms/step - loss: 0.1178 - accuracy: 0.9642\n",
            "Epoch 9/20\n",
            "100/100 [==============================] - 2s 16ms/step - loss: 0.1097 - accuracy: 0.9665\n",
            "Epoch 10/20\n",
            "100/100 [==============================] - 2s 17ms/step - loss: 0.1036 - accuracy: 0.9685\n",
            "Epoch 11/20\n",
            "100/100 [==============================] - 2s 17ms/step - loss: 0.0974 - accuracy: 0.9705\n",
            "Epoch 12/20\n",
            "100/100 [==============================] - 2s 16ms/step - loss: 0.0924 - accuracy: 0.9715\n",
            "Epoch 13/20\n",
            "100/100 [==============================] - 2s 17ms/step - loss: 0.0871 - accuracy: 0.9723\n",
            "Epoch 14/20\n",
            "100/100 [==============================] - 2s 16ms/step - loss: 0.0872 - accuracy: 0.9728\n",
            "Epoch 15/20\n",
            "100/100 [==============================] - 2s 17ms/step - loss: 0.0856 - accuracy: 0.9731\n",
            "Epoch 16/20\n",
            "100/100 [==============================] - 2s 17ms/step - loss: 0.0772 - accuracy: 0.9760\n",
            "Epoch 17/20\n",
            "100/100 [==============================] - 2s 16ms/step - loss: 0.0762 - accuracy: 0.9760\n",
            "Epoch 18/20\n",
            "100/100 [==============================] - 2s 16ms/step - loss: 0.0723 - accuracy: 0.9773\n",
            "Epoch 19/20\n",
            "100/100 [==============================] - 2s 17ms/step - loss: 0.0669 - accuracy: 0.9793\n",
            "Epoch 20/20\n",
            "100/100 [==============================] - 2s 16ms/step - loss: 0.0662 - accuracy: 0.9793\n"
          ],
          "name": "stdout"
        },
        {
          "output_type": "execute_result",
          "data": {
            "text/plain": [
              "<tensorflow.python.keras.callbacks.History at 0x7fbe43f5ee90>"
            ]
          },
          "metadata": {
            "tags": []
          },
          "execution_count": 201
        }
      ]
    },
    {
      "cell_type": "code",
      "metadata": {
        "colab": {
          "base_uri": "https://localhost:8080/"
        },
        "id": "AqDG4jvGT6cE",
        "outputId": "3ea17b66-5492-4182-91a3-5a9b28776240"
      },
      "source": [
        "res_xavier = model_xavier.evaluate(X_test,test_labels)"
      ],
      "execution_count": null,
      "outputs": [
        {
          "output_type": "stream",
          "text": [
            "313/313 [==============================] - 1s 1ms/step - loss: 0.0693 - accuracy: 0.9806\n"
          ],
          "name": "stdout"
        }
      ]
    },
    {
      "cell_type": "code",
      "metadata": {
        "colab": {
          "base_uri": "https://localhost:8080/"
        },
        "id": "9McEXmo8UBLO",
        "outputId": "e9230a78-59e1-4298-e0eb-44773095b659"
      },
      "source": [
        "print(\"Loss : \" , res_xavier[0])"
      ],
      "execution_count": null,
      "outputs": [
        {
          "output_type": "stream",
          "text": [
            "Loss :  0.06927978992462158\n"
          ],
          "name": "stdout"
        }
      ]
    },
    {
      "cell_type": "code",
      "metadata": {
        "colab": {
          "base_uri": "https://localhost:8080/"
        },
        "id": "0Erks4lzUEdg",
        "outputId": "830e9cd4-c265-4a33-9985-27bbfaed7c1f"
      },
      "source": [
        "print(\"Accuracy : \" , res_xavier[1])"
      ],
      "execution_count": null,
      "outputs": [
        {
          "output_type": "stream",
          "text": [
            "Accuracy :  0.9805999994277954\n"
          ],
          "name": "stdout"
        }
      ]
    },
    {
      "cell_type": "markdown",
      "metadata": {
        "id": "buHrlScgUVmv"
      },
      "source": [
        "#### Xavier Normal OR Glorot Normal"
      ]
    },
    {
      "cell_type": "code",
      "metadata": {
        "id": "lKo-cf-tUm27"
      },
      "source": [
        "initializer1 = tensorflow.keras.initializers.GlorotNormal()"
      ],
      "execution_count": null,
      "outputs": []
    },
    {
      "cell_type": "code",
      "metadata": {
        "id": "jd0EeW6YUinX"
      },
      "source": [
        "# Parameters \n",
        "dropout = 0.45\n",
        "\n",
        "# MLP ReLU Dropout \n",
        "model_xavier_n = Sequential([\n",
        "\n",
        "layers.Dense(256, input_dim=input_size, activation='relu',kernel_initializer=initializer1) ,\n",
        "layers.Dropout(dropout),\n",
        "\n",
        "layers.Dense(256,activation='relu',kernel_initializer=initializer1 ),\n",
        "layers.Dropout(dropout),\n",
        "\n",
        "layers.Dense(10 , activation='softmax')\n",
        "\n",
        "])"
      ],
      "execution_count": null,
      "outputs": []
    },
    {
      "cell_type": "code",
      "metadata": {
        "id": "TgX4rPigUvr5"
      },
      "source": [
        "opt1 = tensorflow.keras.optimizers.SGD(learning_rate=0.1 , momentum = 0.9)\n",
        "model_xavier_n.compile(loss='categorical_crossentropy', optimizer=opt1, metrics=['accuracy'])"
      ],
      "execution_count": null,
      "outputs": []
    },
    {
      "cell_type": "code",
      "metadata": {
        "colab": {
          "base_uri": "https://localhost:8080/"
        },
        "id": "FhiUudPrU5E0",
        "outputId": "d74fb43d-f09c-478f-aefc-c8dc190df877"
      },
      "source": [
        "model_xavier_n.fit(X_train, train_labels, epochs=20, batch_size=600)"
      ],
      "execution_count": null,
      "outputs": [
        {
          "output_type": "stream",
          "text": [
            "Epoch 1/20\n",
            "100/100 [==============================] - 2s 16ms/step - loss: 1.0812 - accuracy: 0.6383\n",
            "Epoch 2/20\n",
            "100/100 [==============================] - 2s 17ms/step - loss: 0.2706 - accuracy: 0.9185\n",
            "Epoch 3/20\n",
            "100/100 [==============================] - 2s 16ms/step - loss: 0.2066 - accuracy: 0.9380\n",
            "Epoch 4/20\n",
            "100/100 [==============================] - 2s 16ms/step - loss: 0.1728 - accuracy: 0.9488\n",
            "Epoch 5/20\n",
            "100/100 [==============================] - 2s 16ms/step - loss: 0.1543 - accuracy: 0.9525\n",
            "Epoch 6/20\n",
            "100/100 [==============================] - 2s 17ms/step - loss: 0.1369 - accuracy: 0.9577\n",
            "Epoch 7/20\n",
            "100/100 [==============================] - 2s 16ms/step - loss: 0.1267 - accuracy: 0.9612\n",
            "Epoch 8/20\n",
            "100/100 [==============================] - 2s 16ms/step - loss: 0.1161 - accuracy: 0.9644\n",
            "Epoch 9/20\n",
            "100/100 [==============================] - 2s 17ms/step - loss: 0.1120 - accuracy: 0.9649\n",
            "Epoch 10/20\n",
            "100/100 [==============================] - 2s 16ms/step - loss: 0.1023 - accuracy: 0.9688\n",
            "Epoch 11/20\n",
            "100/100 [==============================] - 2s 16ms/step - loss: 0.1008 - accuracy: 0.9695\n",
            "Epoch 12/20\n",
            "100/100 [==============================] - 2s 17ms/step - loss: 0.0913 - accuracy: 0.9710\n",
            "Epoch 13/20\n",
            "100/100 [==============================] - 2s 16ms/step - loss: 0.0883 - accuracy: 0.9719\n",
            "Epoch 14/20\n",
            "100/100 [==============================] - 2s 16ms/step - loss: 0.0823 - accuracy: 0.9743\n",
            "Epoch 15/20\n",
            "100/100 [==============================] - 2s 16ms/step - loss: 0.0826 - accuracy: 0.9734\n",
            "Epoch 16/20\n",
            "100/100 [==============================] - 2s 16ms/step - loss: 0.0795 - accuracy: 0.9736\n",
            "Epoch 17/20\n",
            "100/100 [==============================] - 2s 16ms/step - loss: 0.0781 - accuracy: 0.9761\n",
            "Epoch 18/20\n",
            "100/100 [==============================] - 2s 16ms/step - loss: 0.0727 - accuracy: 0.9778\n",
            "Epoch 19/20\n",
            "100/100 [==============================] - 2s 16ms/step - loss: 0.0667 - accuracy: 0.9792\n",
            "Epoch 20/20\n",
            "100/100 [==============================] - 2s 16ms/step - loss: 0.0711 - accuracy: 0.9782\n"
          ],
          "name": "stdout"
        },
        {
          "output_type": "execute_result",
          "data": {
            "text/plain": [
              "<tensorflow.python.keras.callbacks.History at 0x7fbe488c40d0>"
            ]
          },
          "metadata": {
            "tags": []
          },
          "execution_count": 190
        }
      ]
    },
    {
      "cell_type": "code",
      "metadata": {
        "colab": {
          "base_uri": "https://localhost:8080/"
        },
        "id": "uo7B7bcFVER_",
        "outputId": "09d85083-5bd2-49a7-cff1-027696300f89"
      },
      "source": [
        "res_xavier_n = model_xavier_n.evaluate(X_test,test_labels)"
      ],
      "execution_count": null,
      "outputs": [
        {
          "output_type": "stream",
          "text": [
            "313/313 [==============================] - 1s 1ms/step - loss: 0.0662 - accuracy: 0.9802\n"
          ],
          "name": "stdout"
        }
      ]
    },
    {
      "cell_type": "code",
      "metadata": {
        "colab": {
          "base_uri": "https://localhost:8080/"
        },
        "id": "FkRUwhueVCgi",
        "outputId": "47da1a5c-e8c2-499d-b53c-8896eb512cf0"
      },
      "source": [
        "print(\"Loss : \" , res_xavier_n[0])"
      ],
      "execution_count": null,
      "outputs": [
        {
          "output_type": "stream",
          "text": [
            "Loss :  0.0661640614271164\n"
          ],
          "name": "stdout"
        }
      ]
    },
    {
      "cell_type": "code",
      "metadata": {
        "colab": {
          "base_uri": "https://localhost:8080/"
        },
        "id": "onoqwRVRVQef",
        "outputId": "4209b50c-6e3b-4c38-d76c-39d9428dac70"
      },
      "source": [
        "print(\"Accuracy : \" , res_xavier_n[1])"
      ],
      "execution_count": null,
      "outputs": [
        {
          "output_type": "stream",
          "text": [
            "Accuracy :  0.9801999926567078\n"
          ],
          "name": "stdout"
        }
      ]
    },
    {
      "cell_type": "markdown",
      "metadata": {
        "id": "84vDZNz2Vy4z"
      },
      "source": [
        "### Trying different learning rates and performing exponential annealing on the learning rate."
      ]
    },
    {
      "cell_type": "markdown",
      "metadata": {
        "id": "AD7gDiWRXNmF"
      },
      "source": [
        "The amount that the weights are updated during training of a Neural Network is referred to as the step size or the “learning rate.”\n",
        "\n",
        "Specifically, the learning rate is a configurable hyperparameter used in the training of neural networks that has a small positive value, often in the range between 0.0 and 1.0 ."
      ]
    },
    {
      "cell_type": "code",
      "metadata": {
        "id": "VW-EZw3mV6td"
      },
      "source": [
        "import matplotlib.pyplot as plt\n",
        "\n",
        "def mlp( X_t , y_t , l_rate) :\n",
        "\n",
        "  model = Sequential([\n",
        "\n",
        "  layers.Dense(256, input_dim=input_size, activation='relu') ,\n",
        "  layers.Dropout(dropout),\n",
        "\n",
        "  layers.Dense(256,activation='relu' ),\n",
        "  layers.Dropout(dropout),\n",
        "\n",
        "  layers.Dense(10 , activation='softmax')\n",
        "  ])\n",
        "\n",
        "  # compile model\n",
        "  opt = tensorflow.keras.optimizers.SGD(learning_rate=l_rate , momentum = 0.9)\n",
        "  model.compile(loss='categorical_crossentropy', optimizer=opt, metrics=['accuracy'])\n",
        "\n",
        "  # fit model\n",
        "  history = model.fit(X_t, y_t ,validation_data=(X_test, test_labels) ,epochs=20, batch_size=600,verbose=0)\n",
        "  \n",
        "  #evaluate\n",
        "  result = model.evaluate(X_test,test_labels,verbose=0)\n",
        "  \n",
        "  # plot learning curves\n",
        "  plt.plot(history.history['loss'], label='train data')\n",
        "  plt.plot(history.history['val_loss'], label='test data')\n",
        "  plt.xlabel('Epoch',color='grey',fontsize=14)\n",
        "  plt.ylabel('Loss',color='grey',fontsize=14)\n",
        "  plt.legend(loc='upper right')\n",
        "  plt.title('\\nlearning rate = '+str(l_rate)+\"\\nLoss : \"+str(result[0])+\"\\nAccuracy : \"+str(result[1]) ,pad = -10)\n",
        "\n",
        "  return model"
      ],
      "execution_count": null,
      "outputs": []
    },
    {
      "cell_type": "code",
      "metadata": {
        "colab": {
          "base_uri": "https://localhost:8080/",
          "height": 778
        },
        "id": "sjwLWusHbdyh",
        "outputId": "83c3c999-68b6-4e08-b3a7-9f35f131626b"
      },
      "source": [
        "# create learning curves for different learning rates\n",
        "learning_rates = [1E-1, 1E-2, 4E-3, 1E-4]\n",
        "models_ = list() \n",
        "histories = list()\n",
        "plt.figure(figsize=(15,25))\n",
        "for i in range(len(learning_rates)) :\n",
        "  # determine the plot number\n",
        "  plot_no = 420 + (i+1)\n",
        "  plt.subplot(plot_no)\n",
        "  l = learning_rates[i]\n",
        "  model = mlp(X_train , train_labels , l)\n",
        "  models_.append(model)\n",
        "  plt.subplots_adjust(wspace=0.5)\n",
        "  plt.subplots_adjust(left=0.1,\n",
        "                    bottom=0.1, \n",
        "                    right=0.9, \n",
        "                    top=0.9, \n",
        "                    hspace=0.5)\n",
        "plt.show()"
      ],
      "execution_count": null,
      "outputs": [
        {
          "output_type": "display_data",
          "data": {
            "image/png": "[encoded data removed]",
            "text/plain": [
              "<Figure size 1080x1800 with 4 Axes>"
            ]
          },
          "metadata": {
            "tags": [],
            "needs_background": "light"
          }
        }
      ]
    },
    {
      "cell_type": "markdown",
      "metadata": {
        "id": "wZFrLHKX27Ao"
      },
      "source": [
        "As we can see from the above graphs , Learning rate plays a huge role in determining the accuracy and loss of a model. \n",
        "\n",
        "Too small learning rate results in larger loss and lesser accuracy ."
      ]
    },
    {
      "cell_type": "code",
      "metadata": {
        "id": "foNDENNw3QWp"
      },
      "source": [
        ""
      ],
      "execution_count": null,
      "outputs": []
    },
    {
      "cell_type": "markdown",
      "metadata": {
        "id": "hLhSHECWD1Q3"
      },
      "source": [
        "### Saving the model"
      ]
    },
    {
      "cell_type": "code",
      "metadata": {
        "colab": {
          "base_uri": "https://localhost:8080/"
        },
        "id": "US3eKraQD4UM",
        "outputId": "a40ef095-08f5-432b-befe-bf4878a978a2"
      },
      "source": [
        "model.save('/content/drive/MyDrive/SMAI/assgn3/q3')"
      ],
      "execution_count": null,
      "outputs": [
        {
          "output_type": "stream",
          "text": [
            "INFO:tensorflow:Assets written to: /content/drive/MyDrive/SMAI/assgn3/q3/assets\n"
          ],
          "name": "stdout"
        }
      ]
    },
    {
      "cell_type": "markdown",
      "metadata": {
        "id": "E97Kqy_UFC8e"
      },
      "source": [
        "*Loading the model*"
      ]
    },
    {
      "cell_type": "code",
      "metadata": {
        "id": "3AYUx40WEFmc"
      },
      "source": [
        "new_model = tensorflow.keras.models.load_model('/content/drive/MyDrive/SMAI/assgn3/q3')"
      ],
      "execution_count": null,
      "outputs": []
    },
    {
      "cell_type": "markdown",
      "metadata": {
        "id": "kIr4mlPLF_P2"
      },
      "source": [
        "*Model Summary*"
      ]
    },
    {
      "cell_type": "code",
      "metadata": {
        "colab": {
          "base_uri": "https://localhost:8080/"
        },
        "id": "TbpxfU5QGA01",
        "outputId": "8933318d-8d7e-43a9-c542-01b364f11749"
      },
      "source": [
        "new_model.summary()"
      ],
      "execution_count": null,
      "outputs": [
        {
          "output_type": "stream",
          "text": [
            "Model: \"sequential_3\"\n",
            "_________________________________________________________________\n",
            "Layer (type)                 Output Shape              Param #   \n",
            "=================================================================\n",
            "dense_10 (Dense)             (None, 256)               200960    \n",
            "_________________________________________________________________\n",
            "dropout_5 (Dropout)          (None, 256)               0         \n",
            "_________________________________________________________________\n",
            "dense_11 (Dense)             (None, 256)               65792     \n",
            "_________________________________________________________________\n",
            "dropout_6 (Dropout)          (None, 256)               0         \n",
            "_________________________________________________________________\n",
            "dense_12 (Dense)             (None, 10)                2570      \n",
            "=================================================================\n",
            "Total params: 269,322\n",
            "Trainable params: 269,322\n",
            "Non-trainable params: 0\n",
            "_________________________________________________________________\n"
          ],
          "name": "stdout"
        }
      ]
    },
    {
      "cell_type": "code",
      "metadata": {
        "id": "oaYoJp1TM49f"
      },
      "source": [
        "new_pred = new_model.predict(X_test)"
      ],
      "execution_count": null,
      "outputs": []
    },
    {
      "cell_type": "code",
      "metadata": {
        "colab": {
          "base_uri": "https://localhost:8080/"
        },
        "id": "pZbn3C-t9dk2",
        "outputId": "8a1e1c2c-e2ea-4d69-e517-ee37d9a39c07"
      },
      "source": [
        "new_pred.shape"
      ],
      "execution_count": null,
      "outputs": [
        {
          "output_type": "execute_result",
          "data": {
            "text/plain": [
              "(10000, 10)"
            ]
          },
          "metadata": {
            "tags": []
          },
          "execution_count": 142
        }
      ]
    },
    {
      "cell_type": "markdown",
      "metadata": {
        "id": "eORGWfbg9pFj"
      },
      "source": [
        "*Reverse Transforming the pred_ from one-hot form to numeric values*"
      ]
    },
    {
      "cell_type": "code",
      "metadata": {
        "colab": {
          "base_uri": "https://localhost:8080/"
        },
        "id": "UgJScVn9NFPw",
        "outputId": "b78097c3-5e7f-42e1-a1a4-278d9f79e886"
      },
      "source": [
        "new_pred = np.argmax(new_pred,axis=-1)\n",
        "new_pred.shape"
      ],
      "execution_count": null,
      "outputs": [
        {
          "output_type": "execute_result",
          "data": {
            "text/plain": [
              "(10000,)"
            ]
          },
          "metadata": {
            "tags": []
          },
          "execution_count": 173
        }
      ]
    },
    {
      "cell_type": "markdown",
      "metadata": {
        "id": "OxuQ2qTB_bfZ"
      },
      "source": [
        "*Plotting predicted label for test image at index 3*"
      ]
    },
    {
      "cell_type": "code",
      "metadata": {
        "colab": {
          "base_uri": "https://localhost:8080/",
          "height": 264
        },
        "id": "b8QaAIIZNPJf",
        "outputId": "56eab680-9088-4523-a402-57a6c30d767e"
      },
      "source": [
        "plot_sample(x_test, new_pred,3)"
      ],
      "execution_count": null,
      "outputs": [
        {
          "output_type": "display_data",
          "data": {
            "image/png": "[encoded data removed]",
            "text/plain": [
              "<Figure size 432x288 with 1 Axes>"
            ]
          },
          "metadata": {
            "tags": [],
            "needs_background": "light"
          }
        }
      ]
    },
    {
      "cell_type": "markdown",
      "metadata": {
        "id": "_Kcu66cm4Wr-"
      },
      "source": [
        "##Part 2"
      ]
    },
    {
      "cell_type": "markdown",
      "metadata": {
        "id": "t_JM9zUC_xcD"
      },
      "source": [
        "<h2 style='color:blue' align='center'>MLP Autoencoder as a Classifier</h2>"
      ]
    },
    {
      "cell_type": "code",
      "metadata": {
        "id": "RiI1hsF3JSEF"
      },
      "source": [
        "# train autoencoder for classification with no compression in the bottleneck layer\n",
        "from sklearn.datasets import make_classification\n",
        "from sklearn.preprocessing import MinMaxScaler\n",
        "from sklearn.model_selection import train_test_split\n",
        "from tensorflow.keras.models import Model\n",
        "from tensorflow.keras.layers import Input\n",
        "from tensorflow.keras.layers import Dense\n",
        "from tensorflow.keras.layers import LeakyReLU\n",
        "from tensorflow.keras.layers import BatchNormalization\n",
        "from tensorflow.keras.utils import plot_model\n",
        "from matplotlib import pyplot\n",
        "\n",
        "# define dataset\n",
        "from tensorflow.keras.datasets import mnist\n",
        "(X_train, y_train), (X_test, y_test) = mnist.load_data()\n",
        "\n",
        "# scale data\n",
        "X_train = X_train / 255.0\n",
        "X_test = X_test / 255.0\n",
        "# X_train = t.transform(X_train)\n",
        "# X_test = t.transform(X_test)"
      ],
      "execution_count": null,
      "outputs": []
    },
    {
      "cell_type": "code",
      "metadata": {
        "colab": {
          "base_uri": "https://localhost:8080/"
        },
        "id": "8Wz-f4ZSNMyV",
        "outputId": "189f289a-4958-4d0f-d0bc-ca373e2e2168"
      },
      "source": [
        "X_train.shape"
      ],
      "execution_count": null,
      "outputs": [
        {
          "output_type": "execute_result",
          "data": {
            "text/plain": [
              "(60000, 784)"
            ]
          },
          "metadata": {
            "tags": []
          },
          "execution_count": 13
        }
      ]
    },
    {
      "cell_type": "code",
      "metadata": {
        "colab": {
          "base_uri": "https://localhost:8080/"
        },
        "id": "ThvrmPpxRu71",
        "outputId": "710853a3-571b-4d95-8c14-c75b1d6e3bab"
      },
      "source": [
        "X_test.shape"
      ],
      "execution_count": null,
      "outputs": [
        {
          "output_type": "execute_result",
          "data": {
            "text/plain": [
              "(10000, 784)"
            ]
          },
          "metadata": {
            "tags": []
          },
          "execution_count": 18
        }
      ]
    },
    {
      "cell_type": "code",
      "metadata": {
        "id": "aOSbDMZaR1xX"
      },
      "source": [
        "X_test = X_test.reshape(10000,784)"
      ],
      "execution_count": null,
      "outputs": []
    },
    {
      "cell_type": "code",
      "metadata": {
        "id": "gERnCKsTN4i-"
      },
      "source": [
        "y_train = y_train.reshape(len(y_train),1)\n",
        "y_test = y_test.reshape(len(y_test),1)"
      ],
      "execution_count": null,
      "outputs": []
    },
    {
      "cell_type": "code",
      "metadata": {
        "colab": {
          "base_uri": "https://localhost:8080/"
        },
        "id": "VzCBLnJhhXjS",
        "outputId": "a96d27fe-7429-407d-b702-c9064c32abd7"
      },
      "source": [
        "y_train.shape, y_test.shape"
      ],
      "execution_count": null,
      "outputs": [
        {
          "output_type": "execute_result",
          "data": {
            "text/plain": [
              "((60000, 1), (10000, 1))"
            ]
          },
          "metadata": {
            "tags": []
          },
          "execution_count": 57
        }
      ]
    },
    {
      "cell_type": "code",
      "metadata": {
        "id": "omAPgqwmRQic"
      },
      "source": [
        "X_train = X_train.reshape(60000,784)"
      ],
      "execution_count": null,
      "outputs": []
    },
    {
      "cell_type": "code",
      "metadata": {
        "colab": {
          "base_uri": "https://localhost:8080/"
        },
        "id": "FlJBaTEAReux",
        "outputId": "d25f6b2f-890c-4391-9c5b-8c4e63fad48c"
      },
      "source": [
        "X_test.shape"
      ],
      "execution_count": null,
      "outputs": [
        {
          "output_type": "execute_result",
          "data": {
            "text/plain": [
              "(10000, 784)"
            ]
          },
          "metadata": {
            "tags": []
          },
          "execution_count": 61
        }
      ]
    },
    {
      "cell_type": "code",
      "metadata": {
        "id": "Y0vr_SVadVvO"
      },
      "source": [
        "n_inputs = 784\n",
        "# define encoder\n",
        "visible = Input(shape=(n_inputs,))\n",
        "\n",
        "# encoder level 1\n",
        "e = Dense(n_inputs*2)(visible)\n",
        "e = BatchNormalization()(e)\n",
        "e = LeakyReLU()(e)\n",
        "\n",
        "# encoder level 2\n",
        "e = Dense(n_inputs)(e)\n",
        "e = BatchNormalization()(e)\n",
        "e = LeakyReLU()(e)\n",
        "\n",
        "# bottleneck\n",
        "n_bottleneck = round(float(n_inputs) / 2.0)\n",
        "bottleneck = Dense(n_bottleneck)(e)\n",
        "\n",
        "# define decoder, level 1\n",
        "d = Dense(n_inputs)(bottleneck)\n",
        "d = BatchNormalization()(d)\n",
        "d = LeakyReLU()(d)\n",
        "\n",
        "# decoder level 2\n",
        "d = Dense(n_inputs*2)(d)\n",
        "d = BatchNormalization()(d)\n",
        "d = LeakyReLU()(d)\n",
        "\n",
        "# output layer\n",
        "output = Dense(n_inputs, activation='linear')(d)\n",
        "\n",
        "# define autoencoder model\n",
        "model = Model(inputs=visible, outputs=output)\n",
        "\n",
        "# compile autoencoder model\n",
        "model.compile(optimizer='adam', loss='mse')"
      ],
      "execution_count": null,
      "outputs": []
    },
    {
      "cell_type": "code",
      "metadata": {
        "colab": {
          "base_uri": "https://localhost:8080/"
        },
        "id": "1N_AglSVJcb7",
        "outputId": "d99d8706-a3c7-42dd-bc60-17c0bbbc4e18"
      },
      "source": [
        "# fit the autoencoder model to reconstruct input\n",
        "history = model.fit(X_train, X_train, epochs=10, batch_size=16, verbose=2, validation_data=(X_test,X_test))"
      ],
      "execution_count": null,
      "outputs": [
        {
          "output_type": "stream",
          "text": [
            "Epoch 1/10\n",
            "3750/3750 - 161s - loss: 0.0261 - val_loss: 0.0159\n",
            "Epoch 2/10\n",
            "3750/3750 - 160s - loss: 0.0149 - val_loss: 0.0128\n",
            "Epoch 3/10\n",
            "3750/3750 - 160s - loss: 0.0121 - val_loss: 0.0087\n",
            "Epoch 4/10\n",
            "3750/3750 - 160s - loss: 0.0105 - val_loss: 0.0087\n",
            "Epoch 5/10\n",
            "3750/3750 - 159s - loss: 0.0095 - val_loss: 0.0069\n",
            "Epoch 6/10\n",
            "3750/3750 - 159s - loss: 0.0089 - val_loss: 0.0068\n",
            "Epoch 7/10\n",
            "3750/3750 - 158s - loss: 0.0084 - val_loss: 0.0061\n",
            "Epoch 8/10\n",
            "3750/3750 - 159s - loss: 0.0080 - val_loss: 0.0064\n",
            "Epoch 9/10\n",
            "3750/3750 - 160s - loss: 0.0078 - val_loss: 0.0056\n",
            "Epoch 10/10\n",
            "3750/3750 - 161s - loss: 0.0076 - val_loss: 0.0058\n"
          ],
          "name": "stdout"
        }
      ]
    },
    {
      "cell_type": "code",
      "metadata": {
        "colab": {
          "base_uri": "https://localhost:8080/"
        },
        "id": "-SL7D7dZbSc9",
        "outputId": "2e534b3c-c37e-4980-94a0-fef23a8948d1"
      },
      "source": [
        "import numpy as np\n",
        "validation_loss = history.history['val_loss']\n",
        "loss_= np.mean(np.array(validation_loss))\n",
        "print(\"Average validation loss : \",loss_)"
      ],
      "execution_count": null,
      "outputs": [
        {
          "output_type": "stream",
          "text": [
            "Average validation loss :  0.008364966185763479\n"
          ],
          "name": "stdout"
        }
      ]
    },
    {
      "cell_type": "code",
      "metadata": {
        "colab": {
          "base_uri": "https://localhost:8080/",
          "height": 279
        },
        "id": "qF3bDFS2JeGo",
        "outputId": "4d10e1cd-640d-4c17-faff-a105d35b9e64"
      },
      "source": [
        "# plot loss\n",
        "pyplot.plot(history.history['loss'], label='train')\n",
        "pyplot.plot(history.history['val_loss'], label='test')\n",
        "pyplot.legend()\n",
        "pyplot.xlabel('Epochs')\n",
        "pyplot.ylabel('Loss')\n",
        "pyplot.show()"
      ],
      "execution_count": null,
      "outputs": [
        {
          "output_type": "display_data",
          "data": {
            "image/png": "[encoded data removed]",
            "text/plain": [
              "<Figure size 432x288 with 1 Axes>"
            ]
          },
          "metadata": {
            "tags": [],
            "needs_background": "light"
          }
        }
      ]
    },
    {
      "cell_type": "code",
      "metadata": {
        "colab": {
          "base_uri": "https://localhost:8080/"
        },
        "id": "gQz45LzecGjp",
        "outputId": "7d4f0eca-0557-4700-9b15-3ad085e6a785"
      },
      "source": [
        "pred_x1 = model.predict(X_test)\n",
        "pred_x1.shape"
      ],
      "execution_count": null,
      "outputs": [
        {
          "output_type": "execute_result",
          "data": {
            "text/plain": [
              "(10000, 784)"
            ]
          },
          "metadata": {
            "tags": []
          },
          "execution_count": 31
        }
      ]
    },
    {
      "cell_type": "code",
      "metadata": {
        "id": "_I6iESbacxH6"
      },
      "source": [
        "pred_x1=pred_x1.reshape(10000,28,28)"
      ],
      "execution_count": null,
      "outputs": []
    },
    {
      "cell_type": "code",
      "metadata": {
        "colab": {
          "base_uri": "https://localhost:8080/",
          "height": 281
        },
        "id": "8GhpBCWecz5r",
        "outputId": "81338834-1eae-4e5d-8d10-0391992f0cf1"
      },
      "source": [
        "import matplotlib.pyplot as plt\n",
        "plt.figure()\n",
        "plt.imshow(pred_x1[0])\n",
        "plt.title('Predicted')\n",
        "plt.grid(False)\n",
        "plt.axis('off')"
      ],
      "execution_count": null,
      "outputs": [
        {
          "output_type": "execute_result",
          "data": {
            "text/plain": [
              "(-0.5, 27.5, 27.5, -0.5)"
            ]
          },
          "metadata": {
            "tags": []
          },
          "execution_count": 48
        },
        {
          "output_type": "display_data",
          "data": {
            "image/png": "[encoded data removed]",
            "text/plain": [
              "<Figure size 432x288 with 1 Axes>"
            ]
          },
          "metadata": {
            "tags": [],
            "needs_background": "light"
          }
        }
      ]
    },
    {
      "cell_type": "code",
      "metadata": {
        "colab": {
          "base_uri": "https://localhost:8080/",
          "height": 281
        },
        "id": "sRZZfr6IeN04",
        "outputId": "50fda5e4-d17e-405b-b6d2-6e5c1b606edf"
      },
      "source": [
        "plt.figure()\n",
        "plt.imshow(X_test[0].reshape(28,28))\n",
        "plt.title('Original')\n",
        "plt.grid(False)\n",
        "plt.axis('off')"
      ],
      "execution_count": null,
      "outputs": [
        {
          "output_type": "execute_result",
          "data": {
            "text/plain": [
              "(-0.5, 27.5, 27.5, -0.5)"
            ]
          },
          "metadata": {
            "tags": []
          },
          "execution_count": 47
        },
        {
          "output_type": "display_data",
          "data": {
            "image/png": "[encoded data removed]",
            "text/plain": [
              "<Figure size 432x288 with 1 Axes>"
            ]
          },
          "metadata": {
            "tags": [],
            "needs_background": "light"
          }
        }
      ]
    },
    {
      "cell_type": "code",
      "metadata": {
        "id": "fw-TZiJdJhns"
      },
      "source": [
        "# define an encoder model (without the decoder)\n",
        "encoder = Model(inputs=visible, outputs=bottleneck)"
      ],
      "execution_count": null,
      "outputs": []
    },
    {
      "cell_type": "code",
      "metadata": {
        "id": "i-xYM9ffa9Rq"
      },
      "source": [
        "# encode the train data\n",
        "X_train_encode = encoder.predict(X_train)\n",
        "# encode the test data\n",
        "X_test_encode = encoder.predict(X_test)"
      ],
      "execution_count": null,
      "outputs": []
    },
    {
      "cell_type": "code",
      "metadata": {
        "colab": {
          "base_uri": "https://localhost:8080/"
        },
        "id": "Qy3Vx1iugQBW",
        "outputId": "b4a85a8b-f583-4e12-b530-4f7fdffa1984"
      },
      "source": [
        "X_train_encode.shape , X_test_encode.shape"
      ],
      "execution_count": null,
      "outputs": [
        {
          "output_type": "execute_result",
          "data": {
            "text/plain": [
              "((60000, 784), (10000, 784))"
            ]
          },
          "metadata": {
            "tags": []
          },
          "execution_count": 54
        }
      ]
    },
    {
      "cell_type": "markdown",
      "metadata": {
        "id": "hhe8Ks1jfqW1"
      },
      "source": [
        "Passing x_train_encode and X_test_encode into a MLP Classifier "
      ]
    },
    {
      "cell_type": "code",
      "metadata": {
        "id": "nV6MF9ADfpN5"
      },
      "source": [
        "from tensorflow.keras import datasets, layers, models\n",
        "from tensorflow.keras.layers import Activation, Dropout\n",
        "\n",
        "# Parameters \n",
        "dropout = 0.3\n",
        "\n",
        "# MLP ReLU Dropout \n",
        "model_mlp = Sequential([\n",
        "\n",
        "layers.Dense(256, input_dim=784, activation='relu') ,\n",
        "layers.Dropout(dropout),\n",
        "\n",
        "layers.Dense(256,activation='relu' ),\n",
        "layers.Dropout(dropout),\n",
        "\n",
        "layers.Dense(10, activation='softmax')\n",
        "\n",
        "])"
      ],
      "execution_count": null,
      "outputs": []
    },
    {
      "cell_type": "code",
      "metadata": {
        "id": "pp0vqZpGgvdy"
      },
      "source": [
        "model_mlp.compile(loss='categorical_crossentropy', optimizer='adam', metrics=['accuracy'])"
      ],
      "execution_count": null,
      "outputs": []
    },
    {
      "cell_type": "markdown",
      "metadata": {
        "id": "S_fe9QSzhfCW"
      },
      "source": [
        "*Converting labels into one-hot form to be able to use categorical_crossentropy*"
      ]
    },
    {
      "cell_type": "code",
      "metadata": {
        "id": "kHkLmVoxhDhk"
      },
      "source": [
        "from tensorflow.keras.utils import to_categorical\n",
        "train_labels = to_categorical(y_train)\n",
        "test_labels = to_categorical(y_test)"
      ],
      "execution_count": null,
      "outputs": []
    },
    {
      "cell_type": "code",
      "metadata": {
        "colab": {
          "base_uri": "https://localhost:8080/"
        },
        "id": "vbkYl7svhoeY",
        "outputId": "974ff1de-8db3-4f24-c4d4-7def466e58d6"
      },
      "source": [
        "train_labels.shape , test_labels.shape , X_train_encode.shape , X_test_encode.shape"
      ],
      "execution_count": null,
      "outputs": [
        {
          "output_type": "execute_result",
          "data": {
            "text/plain": [
              "((60000, 10), (10000, 10), (60000, 784), (10000, 784))"
            ]
          },
          "metadata": {
            "tags": []
          },
          "execution_count": 64
        }
      ]
    },
    {
      "cell_type": "markdown",
      "metadata": {
        "id": "GGoeiV3Ih6gh"
      },
      "source": [
        "##### Fit into the MLP Classifier with Autoencoder trained train and test data and Report Accuracy"
      ]
    },
    {
      "cell_type": "code",
      "metadata": {
        "colab": {
          "base_uri": "https://localhost:8080/"
        },
        "id": "Q4SDNK3ch1Fx",
        "outputId": "70dc4e3f-e48a-4527-8cce-38a3708246b9"
      },
      "source": [
        "hist_ae_mlp = model_mlp.fit(X_train_encode, train_labels, epochs=10,validation_data=(X_test_encode,test_labels), batch_size=600)"
      ],
      "execution_count": null,
      "outputs": [
        {
          "output_type": "stream",
          "text": [
            "Epoch 1/10\n",
            "100/100 [==============================] - 2s 20ms/step - loss: 3.9999 - accuracy: 0.5289 - val_loss: 0.3133 - val_accuracy: 0.9069\n",
            "Epoch 2/10\n",
            "100/100 [==============================] - 2s 18ms/step - loss: 0.4682 - accuracy: 0.8624 - val_loss: 0.2249 - val_accuracy: 0.9358\n",
            "Epoch 3/10\n",
            "100/100 [==============================] - 2s 18ms/step - loss: 0.3184 - accuracy: 0.9055 - val_loss: 0.1815 - val_accuracy: 0.9472\n",
            "Epoch 4/10\n",
            "100/100 [==============================] - 2s 18ms/step - loss: 0.2646 - accuracy: 0.9219 - val_loss: 0.1572 - val_accuracy: 0.9546\n",
            "Epoch 5/10\n",
            "100/100 [==============================] - 2s 18ms/step - loss: 0.2271 - accuracy: 0.9319 - val_loss: 0.1451 - val_accuracy: 0.9598\n",
            "Epoch 6/10\n",
            "100/100 [==============================] - 2s 18ms/step - loss: 0.2010 - accuracy: 0.9408 - val_loss: 0.1359 - val_accuracy: 0.9620\n",
            "Epoch 7/10\n",
            "100/100 [==============================] - 2s 18ms/step - loss: 0.1789 - accuracy: 0.9458 - val_loss: 0.1242 - val_accuracy: 0.9643\n",
            "Epoch 8/10\n",
            "100/100 [==============================] - 2s 18ms/step - loss: 0.1680 - accuracy: 0.9482 - val_loss: 0.1162 - val_accuracy: 0.9652\n",
            "Epoch 9/10\n",
            "100/100 [==============================] - 2s 18ms/step - loss: 0.1522 - accuracy: 0.9535 - val_loss: 0.1128 - val_accuracy: 0.9666\n",
            "Epoch 10/10\n",
            "100/100 [==============================] - 2s 18ms/step - loss: 0.1450 - accuracy: 0.9565 - val_loss: 0.1102 - val_accuracy: 0.9678\n"
          ],
          "name": "stdout"
        }
      ]
    },
    {
      "cell_type": "code",
      "metadata": {
        "id": "Z933qIqQlDBW"
      },
      "source": [
        "res_ae_mlp = model_mlp.evaluate(X_test_encode,test_labels , verbose = 0)"
      ],
      "execution_count": null,
      "outputs": []
    },
    {
      "cell_type": "code",
      "metadata": {
        "colab": {
          "base_uri": "https://localhost:8080/"
        },
        "id": "6fNZxBiultag",
        "outputId": "9802eb8f-4799-4eb0-8e41-dce1987296b9"
      },
      "source": [
        "print(\"Loss :\",res_ae_mlp[0])"
      ],
      "execution_count": null,
      "outputs": [
        {
          "output_type": "stream",
          "text": [
            "Loss : 0.11024092137813568\n"
          ],
          "name": "stdout"
        }
      ]
    },
    {
      "cell_type": "code",
      "metadata": {
        "colab": {
          "base_uri": "https://localhost:8080/"
        },
        "id": "IccepSUllzWt",
        "outputId": "2f4c301f-f256-4e5b-c423-3e1e229f5464"
      },
      "source": [
        "print(\"Accuracy :\",res_ae_mlp[1])"
      ],
      "execution_count": null,
      "outputs": [
        {
          "output_type": "stream",
          "text": [
            "Accuracy : 0.9678000211715698\n"
          ],
          "name": "stdout"
        }
      ]
    },
    {
      "cell_type": "markdown",
      "metadata": {
        "id": "OdwQt1ZJmAo6"
      },
      "source": [
        "##### Fit into the MLP Classifier with Normal train and test data and Report Accuracy"
      ]
    },
    {
      "cell_type": "code",
      "metadata": {
        "id": "rXhtCpzImQ9t"
      },
      "source": [
        "opt = tensorflow.keras.optimizers.SGD(learning_rate=0.1 , momentum = 0.9)\n",
        "model_mlp.compile(loss='categorical_crossentropy', optimizer=opt, metrics=['accuracy'])"
      ],
      "execution_count": null,
      "outputs": []
    },
    {
      "cell_type": "code",
      "metadata": {
        "colab": {
          "base_uri": "https://localhost:8080/"
        },
        "id": "J4233Y4xmXD1",
        "outputId": "9484df55-73b4-408c-f6ef-bf6cffcb7a6e"
      },
      "source": [
        "hist_mlp = model_mlp.fit(X_train, train_labels, epochs=10,validation_data=(X_test,test_labels), batch_size=600)"
      ],
      "execution_count": null,
      "outputs": [
        {
          "output_type": "stream",
          "text": [
            "Epoch 1/10\n",
            "100/100 [==============================] - 2s 20ms/step - loss: 0.4441 - accuracy: 0.8657 - val_loss: 0.1645 - val_accuracy: 0.9495\n",
            "Epoch 2/10\n",
            "100/100 [==============================] - 2s 18ms/step - loss: 0.2038 - accuracy: 0.9390 - val_loss: 0.1138 - val_accuracy: 0.9649\n",
            "Epoch 3/10\n",
            "100/100 [==============================] - 2s 18ms/step - loss: 0.1525 - accuracy: 0.9535 - val_loss: 0.1000 - val_accuracy: 0.9686\n",
            "Epoch 4/10\n",
            "100/100 [==============================] - 2s 18ms/step - loss: 0.1248 - accuracy: 0.9618 - val_loss: 0.0838 - val_accuracy: 0.9737\n",
            "Epoch 5/10\n",
            "100/100 [==============================] - 2s 18ms/step - loss: 0.1024 - accuracy: 0.9688 - val_loss: 0.0804 - val_accuracy: 0.9745\n",
            "Epoch 6/10\n",
            "100/100 [==============================] - 2s 18ms/step - loss: 0.0906 - accuracy: 0.9731 - val_loss: 0.0704 - val_accuracy: 0.9781\n",
            "Epoch 7/10\n",
            "100/100 [==============================] - 2s 18ms/step - loss: 0.0851 - accuracy: 0.9743 - val_loss: 0.0734 - val_accuracy: 0.9780\n",
            "Epoch 8/10\n",
            "100/100 [==============================] - 2s 18ms/step - loss: 0.0755 - accuracy: 0.9760 - val_loss: 0.0709 - val_accuracy: 0.9770\n",
            "Epoch 9/10\n",
            "100/100 [==============================] - 2s 18ms/step - loss: 0.0665 - accuracy: 0.9796 - val_loss: 0.0651 - val_accuracy: 0.9799\n",
            "Epoch 10/10\n",
            "100/100 [==============================] - 2s 18ms/step - loss: 0.0623 - accuracy: 0.9804 - val_loss: 0.0652 - val_accuracy: 0.9791\n"
          ],
          "name": "stdout"
        }
      ]
    },
    {
      "cell_type": "code",
      "metadata": {
        "id": "z0TrMhlzmrli"
      },
      "source": [
        "res_mlp = model_mlp.evaluate(X_test,test_labels , verbose = 0)"
      ],
      "execution_count": null,
      "outputs": []
    },
    {
      "cell_type": "code",
      "metadata": {
        "colab": {
          "base_uri": "https://localhost:8080/"
        },
        "id": "13UwzGutmymG",
        "outputId": "4a73beba-6fd4-4c0e-fe9b-859a865bea8b"
      },
      "source": [
        "print(\"Loss :\",res_mlp[0])"
      ],
      "execution_count": null,
      "outputs": [
        {
          "output_type": "stream",
          "text": [
            "Loss : 0.06515146046876907\n"
          ],
          "name": "stdout"
        }
      ]
    },
    {
      "cell_type": "code",
      "metadata": {
        "colab": {
          "base_uri": "https://localhost:8080/"
        },
        "id": "nvTzmmAlm1Qt",
        "outputId": "18a997b8-19a1-42ca-94fe-23f3712e4e20"
      },
      "source": [
        "print(\"Loss :\",res_mlp[1])"
      ],
      "execution_count": null,
      "outputs": [
        {
          "output_type": "stream",
          "text": [
            "Loss : 0.9790999889373779\n"
          ],
          "name": "stdout"
        }
      ]
    },
    {
      "cell_type": "code",
      "metadata": {
        "id": "3ExWySQNnwnE"
      },
      "source": [
        "pred = model_mlp.predict(X_test)"
      ],
      "execution_count": null,
      "outputs": []
    },
    {
      "cell_type": "markdown",
      "metadata": {
        "id": "TjIsvK83oacN"
      },
      "source": [
        "Converting back from one-hot form"
      ]
    },
    {
      "cell_type": "code",
      "metadata": {
        "colab": {
          "base_uri": "https://localhost:8080/"
        },
        "id": "m4-tySFjoKgw",
        "outputId": "1990158c-711b-4dea-ec8d-066bea3f0b1f"
      },
      "source": [
        "pred = np.argmax(pred,axis=-1)\n",
        "pred.shape"
      ],
      "execution_count": null,
      "outputs": [
        {
          "output_type": "execute_result",
          "data": {
            "text/plain": [
              "(10000,)"
            ]
          },
          "metadata": {
            "tags": []
          },
          "execution_count": 97
        }
      ]
    },
    {
      "cell_type": "code",
      "metadata": {
        "colab": {
          "base_uri": "https://localhost:8080/",
          "height": 264
        },
        "id": "c3ANQWVNoTpX",
        "outputId": "829362c3-08ba-489b-87e1-2d626230d06c"
      },
      "source": [
        "plot_sample(x_test, pred,5)"
      ],
      "execution_count": null,
      "outputs": [
        {
          "output_type": "display_data",
          "data": {
            "image/png": "[encoded data removed]",
            "text/plain": [
              "<Figure size 432x288 with 1 Axes>"
            ]
          },
          "metadata": {
            "tags": [],
            "needs_background": "light"
          }
        }
      ]
    }
  ]
}