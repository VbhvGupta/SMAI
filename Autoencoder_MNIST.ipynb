{
  "nbformat": 4,
  "nbformat_minor": 0,
  "metadata": {
    "colab": {
      "name": "Autoencoder_MNIST.ipynb",
      "provenance": [],
      "collapsed_sections": [],
      "mount_file_id": "16H0sxowOULYRi4Ty6db1xjwRMEnmcyyg",
      "authorship_tag": "ABX9TyNsAzlseYr5rPd+cs+tyZ0i",
      "include_colab_link": true
    },
    "kernelspec": {
      "name": "python3",
      "display_name": "Python 3"
    },
    "language_info": {
      "name": "python"
    }
  },
  "cells": [
    {
      "cell_type": "markdown",
      "metadata": {
        "id": "view-in-github",
        "colab_type": "text"
      },
      "source": [
        "<a href=\"https://colab.research.google.com/github/whynotkush/SMAI/blob/main/Autoencoder_MNIST.ipynb\" target=\"_parent\"><img src=\"https://colab.research.google.com/assets/colab-badge.svg\" alt=\"Open In Colab\"/></a>"
      ]
    },
    {
      "cell_type": "markdown",
      "metadata": {
        "id": "2Vx1pmfgz76I"
      },
      "source": [
        "<h1> <center> Autoencoder for MNIST Dataset"
      ]
    },
    {
      "cell_type": "code",
      "metadata": {
        "id": "3e_HZ-su1X_n"
      },
      "source": [
        "from sklearn.datasets import make_classification\n",
        "from sklearn.preprocessing import MinMaxScaler\n",
        "from sklearn.model_selection import train_test_split\n",
        "from tensorflow.keras.models import Model\n",
        "from tensorflow.keras.layers import Input\n",
        "from tensorflow.keras.layers import Dense\n",
        "from tensorflow.keras.layers import LeakyReLU\n",
        "from tensorflow.keras.layers import BatchNormalization\n",
        "from tensorflow.keras.utils import plot_model\n",
        "import tensorflow\n",
        "from matplotlib import pyplot"
      ],
      "execution_count": null,
      "outputs": []
    },
    {
      "cell_type": "code",
      "metadata": {
        "id": "KJsIqRCDAGeV"
      },
      "source": [
        "# define dataset\n",
        "from tensorflow.keras.datasets import mnist\n",
        "(X_train, y_train), (X_test, y_test) = mnist.load_data()\n",
        "\n",
        "# scale data\n",
        "X_train = X_train / 255.0\n",
        "X_test = X_test / 255.0"
      ],
      "execution_count": null,
      "outputs": []
    },
    {
      "cell_type": "code",
      "metadata": {
        "id": "ACsNPCJV4z79"
      },
      "source": [
        "X_train = X_train.reshape(60000,784)"
      ],
      "execution_count": null,
      "outputs": []
    },
    {
      "cell_type": "code",
      "metadata": {
        "id": "kLVVGaT84FZk"
      },
      "source": [
        "X_test = X_test.reshape(10000,784)"
      ],
      "execution_count": null,
      "outputs": []
    },
    {
      "cell_type": "code",
      "metadata": {
        "colab": {
          "base_uri": "https://localhost:8080/"
        },
        "id": "bVaIYL1N4B4b",
        "outputId": "c8c6a09b-1a0a-48f7-ea21-357442584f90"
      },
      "source": [
        "X_train.shape , X_test.shape"
      ],
      "execution_count": null,
      "outputs": [
        {
          "output_type": "execute_result",
          "data": {
            "text/plain": [
              "((60000, 784), (10000, 784))"
            ]
          },
          "metadata": {
            "tags": []
          },
          "execution_count": 11
        }
      ]
    },
    {
      "cell_type": "code",
      "metadata": {
        "id": "2bxf1-sM5BiB"
      },
      "source": [
        "y_train = y_train.reshape(len(y_train),1)\n",
        "y_test = y_test.reshape(len(y_test),1)"
      ],
      "execution_count": null,
      "outputs": []
    },
    {
      "cell_type": "code",
      "metadata": {
        "colab": {
          "base_uri": "https://localhost:8080/"
        },
        "id": "R8iRxJ245C3n",
        "outputId": "6ffc36b4-93c1-41d6-a2d9-1cd64206466c"
      },
      "source": [
        "y_train.shape , y_test.shape"
      ],
      "execution_count": null,
      "outputs": [
        {
          "output_type": "execute_result",
          "data": {
            "text/plain": [
              "((60000, 1), (10000, 1))"
            ]
          },
          "metadata": {
            "tags": []
          },
          "execution_count": 10
        }
      ]
    },
    {
      "cell_type": "markdown",
      "metadata": {
        "id": "0cIDl2r-9P1y"
      },
      "source": [
        "Plotting sample image"
      ]
    },
    {
      "cell_type": "code",
      "metadata": {
        "id": "3Usge28A8TjV"
      },
      "source": [
        "from matplotlib import pyplot as plt\n",
        "def plot_sample(X, y, index):\n",
        "    plt.figure(figsize = (15,4))\n",
        "    plt.imshow(X[index])\n",
        "    plt.axis('off')\n",
        "    plt.title('label : '+str(y[index][0]))"
      ],
      "execution_count": null,
      "outputs": []
    },
    {
      "cell_type": "code",
      "metadata": {
        "colab": {
          "base_uri": "https://localhost:8080/",
          "height": 264
        },
        "id": "cDVkiKs28Xu-",
        "outputId": "80c4f724-c0ae-4cc4-e6c1-c9ee73bee2d5"
      },
      "source": [
        "plot_sample(X_train.reshape(60000,28,28) , y_train , 5)"
      ],
      "execution_count": null,
      "outputs": [
        {
          "output_type": "display_data",
          "data": {
            "image/png": "[encoded data removed]",
            "text/plain": [
              "<Figure size 1080x288 with 1 Axes>"
            ]
          },
          "metadata": {
            "tags": [],
            "needs_background": "light"
          }
        }
      ]
    },
    {
      "cell_type": "markdown",
      "metadata": {
        "id": "xgPay4sAF9zD"
      },
      "source": [
        "### Adam optimizer"
      ]
    },
    {
      "cell_type": "code",
      "metadata": {
        "id": "fGy6qXaf0kXW"
      },
      "source": [
        "def auto_encoder() :\n",
        "  n_inputs = 784\n",
        "\n",
        "  # define encoder\n",
        "  visible = Input(shape=(n_inputs,))\n",
        "\n",
        "  # encoder level \n",
        "  e = Dense(n_inputs)(visible)\n",
        "  e = BatchNormalization()(e)\n",
        "  e = LeakyReLU()(e)\n",
        "\n",
        "  # bottleneck\n",
        "  n_bottleneck = round(float(n_inputs) / 2.0)\n",
        "  bottleneck = Dense(n_bottleneck)(e)\n",
        "\n",
        "\n",
        "  # decoder level \n",
        "  d = Dense(n_inputs)(bottleneck)\n",
        "  d = BatchNormalization()(d)\n",
        "  d = LeakyReLU()(d)\n",
        "\n",
        "  # output layer\n",
        "  output = Dense(n_inputs, activation='linear')(d)\n",
        "\n",
        "  # define autoencoder model\n",
        "  model = Model(inputs=visible, outputs=output)\n",
        "\n",
        "  # compile autoencoder model\n",
        "  model.compile(optimizer= 'adam' , loss='mse')\n",
        "\n",
        "  return model"
      ],
      "execution_count": null,
      "outputs": []
    },
    {
      "cell_type": "code",
      "metadata": {
        "id": "_i-UwWkW5vcb"
      },
      "source": [
        "model = auto_encoder()"
      ],
      "execution_count": null,
      "outputs": []
    },
    {
      "cell_type": "code",
      "metadata": {
        "colab": {
          "base_uri": "https://localhost:8080/"
        },
        "id": "tQMXcZbX29i9",
        "outputId": "a3274c41-203e-4860-d65e-94f782010098"
      },
      "source": [
        "# fit the autoencoder model to reconstruct input\n",
        "history = model.fit(X_train, X_train, epochs=10, batch_size=16, verbose=2, validation_data=(X_test, X_test))"
      ],
      "execution_count": null,
      "outputs": [
        {
          "output_type": "stream",
          "text": [
            "Epoch 1/10\n",
            "3750/3750 - 47s - loss: 0.0204 - val_loss: 0.0091\n",
            "Epoch 2/10\n",
            "3750/3750 - 46s - loss: 0.0115 - val_loss: 0.0069\n",
            "Epoch 3/10\n",
            "3750/3750 - 46s - loss: 0.0096 - val_loss: 0.0050\n",
            "Epoch 4/10\n",
            "3750/3750 - 47s - loss: 0.0085 - val_loss: 0.0043\n",
            "Epoch 5/10\n",
            "3750/3750 - 47s - loss: 0.0078 - val_loss: 0.0041\n",
            "Epoch 6/10\n",
            "3750/3750 - 47s - loss: 0.0074 - val_loss: 0.0039\n",
            "Epoch 7/10\n",
            "3750/3750 - 47s - loss: 0.0070 - val_loss: 0.0035\n",
            "Epoch 8/10\n",
            "3750/3750 - 47s - loss: 0.0068 - val_loss: 0.0035\n",
            "Epoch 9/10\n",
            "3750/3750 - 47s - loss: 0.0066 - val_loss: 0.0033\n",
            "Epoch 10/10\n",
            "3750/3750 - 47s - loss: 0.0064 - val_loss: 0.0033\n"
          ],
          "name": "stdout"
        }
      ]
    },
    {
      "cell_type": "code",
      "metadata": {
        "colab": {
          "base_uri": "https://localhost:8080/"
        },
        "id": "bLs9Y2omTKbR",
        "outputId": "50eccfc1-ed57-46c8-bc61-461bc743a9d0"
      },
      "source": [
        "import numpy as np\n",
        "validation_loss = history.history['val_loss']\n",
        "loss_= np.mean(np.array(validation_loss))\n",
        "print(\"Average validation loss : \",loss_)"
      ],
      "execution_count": null,
      "outputs": [
        {
          "output_type": "stream",
          "text": [
            "Average validation loss :  0.004688636539503932\n"
          ],
          "name": "stdout"
        }
      ]
    },
    {
      "cell_type": "code",
      "metadata": {
        "colab": {
          "base_uri": "https://localhost:8080/",
          "height": 279
        },
        "id": "xn5Ke5jqTTnV",
        "outputId": "338ff56a-8bf4-47ec-c5d2-0fe3a8921274"
      },
      "source": [
        "# plot loss\n",
        "pyplot.plot(history.history['loss'], label='train')\n",
        "pyplot.plot(history.history['val_loss'], label='test')\n",
        "pyplot.legend()\n",
        "pyplot.xlabel('Epochs')\n",
        "pyplot.ylabel('Loss')\n",
        "pyplot.show()"
      ],
      "execution_count": null,
      "outputs": [
        {
          "output_type": "display_data",
          "data": {
            "image/png": "[encoded data removed]",
            "text/plain": [
              "<Figure size 432x288 with 1 Axes>"
            ]
          },
          "metadata": {
            "tags": [],
            "needs_background": "light"
          }
        }
      ]
    },
    {
      "cell_type": "code",
      "metadata": {
        "colab": {
          "base_uri": "https://localhost:8080/"
        },
        "id": "5vgcKD3XTgcn",
        "outputId": "f84bebcf-74f5-4341-c909-bd86611df51c"
      },
      "source": [
        "pred_x1 = model.predict(X_test)\n",
        "pred_x1.shape"
      ],
      "execution_count": null,
      "outputs": [
        {
          "output_type": "execute_result",
          "data": {
            "text/plain": [
              "(10000, 784)"
            ]
          },
          "metadata": {
            "tags": []
          },
          "execution_count": 79
        }
      ]
    },
    {
      "cell_type": "code",
      "metadata": {
        "id": "J6D1nnceYTFX"
      },
      "source": [
        "pred_x1 = pred_x1.reshape(10000,28,28)"
      ],
      "execution_count": null,
      "outputs": []
    },
    {
      "cell_type": "markdown",
      "metadata": {
        "id": "hc2d6BzJTn11"
      },
      "source": [
        "Reshape images back to 28,28"
      ]
    },
    {
      "cell_type": "code",
      "metadata": {
        "colab": {
          "base_uri": "https://localhost:8080/",
          "height": 281
        },
        "id": "t09Lk5-0Ttdh",
        "outputId": "c9df094d-ff93-41f1-aeb9-28cf7c0cd57f"
      },
      "source": [
        "import matplotlib.pyplot as plt\n",
        "plt.figure()\n",
        "plt.imshow(pred_x1[10])\n",
        "plt.title('Predicted')\n",
        "plt.grid(False)\n",
        "plt.axis('off')"
      ],
      "execution_count": null,
      "outputs": [
        {
          "output_type": "execute_result",
          "data": {
            "text/plain": [
              "(-0.5, 27.5, 27.5, -0.5)"
            ]
          },
          "metadata": {
            "tags": []
          },
          "execution_count": 84
        },
        {
          "output_type": "display_data",
          "data": {
            "image/png": "[encoded data removed]",
            "text/plain": [
              "<Figure size 432x288 with 1 Axes>"
            ]
          },
          "metadata": {
            "tags": [],
            "needs_background": "light"
          }
        }
      ]
    },
    {
      "cell_type": "code",
      "metadata": {
        "colab": {
          "base_uri": "https://localhost:8080/",
          "height": 281
        },
        "id": "aGkUG_NpZA--",
        "outputId": "d03a2a8d-d035-4112-fbc4-2e309fc4cc75"
      },
      "source": [
        "plt.figure()\n",
        "plt.imshow(X_test[10].reshape(28,28))\n",
        "plt.title('Original')\n",
        "plt.grid(False)\n",
        "plt.axis('off')"
      ],
      "execution_count": null,
      "outputs": [
        {
          "output_type": "execute_result",
          "data": {
            "text/plain": [
              "(-0.5, 27.5, 27.5, -0.5)"
            ]
          },
          "metadata": {
            "tags": []
          },
          "execution_count": 85
        },
        {
          "output_type": "display_data",
          "data": {
            "image/png": "[encoded data removed]",
            "text/plain": [
              "<Figure size 432x288 with 1 Axes>"
            ]
          },
          "metadata": {
            "tags": [],
            "needs_background": "light"
          }
        }
      ]
    },
    {
      "cell_type": "markdown",
      "metadata": {
        "id": "sdDh1Pt89mx5"
      },
      "source": [
        "### SGD Optmizer without Momentum"
      ]
    },
    {
      "cell_type": "code",
      "metadata": {
        "id": "QicCck76933R"
      },
      "source": [
        "def auto_encoder(opt_) :\n",
        "  n_inputs = 784\n",
        "\n",
        "  # define encoder\n",
        "  visible = Input(shape=(n_inputs,))\n",
        "\n",
        "  # encoder level \n",
        "  e = Dense(n_inputs)(visible)\n",
        "  e = BatchNormalization()(e)\n",
        "  e = LeakyReLU()(e)\n",
        "\n",
        "  # bottleneck\n",
        "  n_bottleneck = round(float(n_inputs) / 2.0)\n",
        "  bottleneck = Dense(n_bottleneck)(e)\n",
        "\n",
        "  # decoder level \n",
        "  d = Dense(n_inputs)(bottleneck)\n",
        "  d = BatchNormalization()(d)\n",
        "  d = LeakyReLU()(d)\n",
        "\n",
        "  # output layer\n",
        "  output = Dense(n_inputs, activation='linear')(d)\n",
        "\n",
        "  # define autoencoder model\n",
        "  model = Model(inputs=visible, outputs=output)\n",
        "\n",
        "  # compile autoencoder model\n",
        "  model.compile(optimizer= opt_ , loss='mse')\n",
        "\n",
        "  return model"
      ],
      "execution_count": null,
      "outputs": []
    },
    {
      "cell_type": "code",
      "metadata": {
        "id": "rRjn1Lex9qEx"
      },
      "source": [
        "opt_ = tensorflow.keras.optimizers.SGD(learning_rate = 0.1 , momentum = 0.0)"
      ],
      "execution_count": null,
      "outputs": []
    },
    {
      "cell_type": "code",
      "metadata": {
        "id": "u79DxD5-AXIa"
      },
      "source": [
        "model_sgd = auto_encoder(opt_)"
      ],
      "execution_count": null,
      "outputs": []
    },
    {
      "cell_type": "code",
      "metadata": {
        "colab": {
          "base_uri": "https://localhost:8080/"
        },
        "id": "ToFip48u96e2",
        "outputId": "fe700bf2-f068-4a62-9fb6-f6215697e392"
      },
      "source": [
        "history = model_sgd.fit(X_train, X_train, epochs=10, batch_size=16, verbose=2, validation_data=(X_test, X_test))"
      ],
      "execution_count": null,
      "outputs": [
        {
          "output_type": "stream",
          "text": [
            "Epoch 1/10\n",
            "3750/3750 - 48s - loss: 0.0593 - val_loss: 0.0311\n",
            "Epoch 2/10\n",
            "3750/3750 - 48s - loss: 0.0337 - val_loss: 0.0245\n",
            "Epoch 3/10\n",
            "Epoch 4/10\n",
            "3750/3750 - 48s - loss: 0.0265 - val_loss: 0.0188\n",
            "Epoch 5/10\n",
            "3750/3750 - 47s - loss: 0.0246 - val_loss: 0.0171\n",
            "Epoch 6/10\n",
            "3750/3750 - 47s - loss: 0.0232 - val_loss: 0.0159\n",
            "Epoch 7/10\n",
            "3750/3750 - 48s - loss: 0.0220 - val_loss: 0.0149\n",
            "Epoch 8/10\n",
            "3750/3750 - 49s - loss: 0.0211 - val_loss: 0.0140\n",
            "Epoch 9/10\n",
            "3750/3750 - 49s - loss: 0.0204 - val_loss: 0.0133\n",
            "Epoch 10/10\n",
            "3750/3750 - 48s - loss: 0.0197 - val_loss: 0.0127\n"
          ],
          "name": "stdout"
        }
      ]
    },
    {
      "cell_type": "code",
      "metadata": {
        "colab": {
          "base_uri": "https://localhost:8080/"
        },
        "id": "r27s2MpVAkC1",
        "outputId": "44edef43-bdb4-409a-a6fd-37fab9042071"
      },
      "source": [
        "import numpy as np\n",
        "validation_loss = history.history['val_loss']\n",
        "loss_= np.mean(np.array(validation_loss))\n",
        "print(\"Average validation loss : \",loss_)"
      ],
      "execution_count": null,
      "outputs": [
        {
          "output_type": "stream",
          "text": [
            "Average validation loss :  0.018332327902317046\n"
          ],
          "name": "stdout"
        }
      ]
    },
    {
      "cell_type": "code",
      "metadata": {
        "colab": {
          "base_uri": "https://localhost:8080/",
          "height": 279
        },
        "id": "bej6EJ-XApvd",
        "outputId": "a746df8a-4c2d-4204-9c81-e1d16268daba"
      },
      "source": [
        "# plot loss\n",
        "pyplot.plot(history.history['loss'], label='train')\n",
        "pyplot.plot(history.history['val_loss'], label='test')\n",
        "pyplot.legend()\n",
        "pyplot.xlabel('Epochs')\n",
        "pyplot.ylabel('Loss')\n",
        "pyplot.show()"
      ],
      "execution_count": null,
      "outputs": [
        {
          "output_type": "display_data",
          "data": {
            "image/png": "[encoded data removed]",
            "text/plain": [
              "<Figure size 432x288 with 1 Axes>"
            ]
          },
          "metadata": {
            "tags": [],
            "needs_background": "light"
          }
        }
      ]
    },
    {
      "cell_type": "code",
      "metadata": {
        "colab": {
          "base_uri": "https://localhost:8080/"
        },
        "id": "rOftLcKiAsVk",
        "outputId": "1521317f-3e45-434b-ad99-e201f3385eb7"
      },
      "source": [
        "pred_x1 = model_sgd.predict(X_test)\n",
        "pred_x1.shape"
      ],
      "execution_count": null,
      "outputs": [
        {
          "output_type": "execute_result",
          "data": {
            "text/plain": [
              "(10000, 784)"
            ]
          },
          "metadata": {
            "tags": []
          },
          "execution_count": 22
        }
      ]
    },
    {
      "cell_type": "markdown",
      "metadata": {
        "id": "37ZfPOJaA5Ta"
      },
      "source": [
        "Reshape images back to 28,28"
      ]
    },
    {
      "cell_type": "code",
      "metadata": {
        "id": "uPzkJ_D5Au5x"
      },
      "source": [
        "pred_x1 = pred_x1.reshape(10000,28,28)"
      ],
      "execution_count": null,
      "outputs": []
    },
    {
      "cell_type": "code",
      "metadata": {
        "colab": {
          "base_uri": "https://localhost:8080/",
          "height": 281
        },
        "id": "i-FOEcz5Aywk",
        "outputId": "e91d45c0-aaf0-4c68-bad9-1f519f22d4b1"
      },
      "source": [
        "import matplotlib.pyplot as plt\n",
        "plt.figure()\n",
        "plt.imshow(pred_x1[10])\n",
        "plt.title('Predicted')\n",
        "plt.grid(False)\n",
        "plt.axis('off')"
      ],
      "execution_count": null,
      "outputs": [
        {
          "output_type": "execute_result",
          "data": {
            "text/plain": [
              "(-0.5, 27.5, 27.5, -0.5)"
            ]
          },
          "metadata": {
            "tags": []
          },
          "execution_count": 24
        },
        {
          "output_type": "display_data",
          "data": {
            "image/png": "[encoded data removed]",
            "text/plain": [
              "<Figure size 432x288 with 1 Axes>"
            ]
          },
          "metadata": {
            "tags": [],
            "needs_background": "light"
          }
        }
      ]
    },
    {
      "cell_type": "code",
      "metadata": {
        "colab": {
          "base_uri": "https://localhost:8080/",
          "height": 281
        },
        "id": "A1zG3V6AA1zv",
        "outputId": "dc0353df-b1c0-421b-b0d9-e6b03305263f"
      },
      "source": [
        "plt.figure()\n",
        "plt.imshow(X_test[10].reshape(28,28))\n",
        "plt.title('Original')\n",
        "plt.grid(False)\n",
        "plt.axis('off')"
      ],
      "execution_count": null,
      "outputs": [
        {
          "output_type": "execute_result",
          "data": {
            "text/plain": [
              "(-0.5, 27.5, 27.5, -0.5)"
            ]
          },
          "metadata": {
            "tags": []
          },
          "execution_count": 25
        },
        {
          "output_type": "display_data",
          "data": {
            "image/png": "[encoded data removed]",
            "text/plain": [
              "<Figure size 432x288 with 1 Axes>"
            ]
          },
          "metadata": {
            "tags": [],
            "needs_background": "light"
          }
        }
      ]
    },
    {
      "cell_type": "markdown",
      "metadata": {
        "id": "it0nOcs5BGfN"
      },
      "source": [
        "### SGD Optmizer with Momentum"
      ]
    },
    {
      "cell_type": "code",
      "metadata": {
        "id": "fu01XU51BNFd"
      },
      "source": [
        "opt_1 = tensorflow.keras.optimizers.SGD(learning_rate = 0.1 , momentum = 0.9)"
      ],
      "execution_count": null,
      "outputs": []
    },
    {
      "cell_type": "code",
      "metadata": {
        "id": "OhwXi782BVYz"
      },
      "source": [
        "model_sgd_m = auto_encoder(opt_1)"
      ],
      "execution_count": null,
      "outputs": []
    },
    {
      "cell_type": "code",
      "metadata": {
        "colab": {
          "base_uri": "https://localhost:8080/"
        },
        "id": "5cefkByOBZDt",
        "outputId": "c7811a62-efdf-48c5-fea5-a2cb482ad5cf"
      },
      "source": [
        "history = model_sgd_m.fit(X_train, X_train, epochs=10, batch_size=16, verbose=2, validation_data=(X_test, X_test))"
      ],
      "execution_count": null,
      "outputs": [
        {
          "output_type": "stream",
          "text": [
            "Epoch 1/10\n",
            "3750/3750 - 54s - loss: 0.0307 - val_loss: 0.0141\n",
            "Epoch 2/10\n",
            "3750/3750 - 53s - loss: 0.0183 - val_loss: 0.0105\n",
            "Epoch 3/10\n",
            "3750/3750 - 53s - loss: 0.0156 - val_loss: 0.0090\n",
            "Epoch 4/10\n",
            "3750/3750 - 53s - loss: 0.0142 - val_loss: 0.0078\n",
            "Epoch 5/10\n",
            "3750/3750 - 53s - loss: 0.0130 - val_loss: 0.0071\n",
            "Epoch 6/10\n",
            "3750/3750 - 54s - loss: 0.0123 - val_loss: 0.0066\n",
            "Epoch 7/10\n",
            "3750/3750 - 53s - loss: 0.0117 - val_loss: 0.0061\n",
            "Epoch 8/10\n",
            "3750/3750 - 52s - loss: 0.0112 - val_loss: 0.0058\n",
            "Epoch 9/10\n",
            "3750/3750 - 53s - loss: 0.0108 - val_loss: 0.0054\n",
            "Epoch 10/10\n",
            "3750/3750 - 53s - loss: 0.0105 - val_loss: 0.0052\n"
          ],
          "name": "stdout"
        }
      ]
    },
    {
      "cell_type": "code",
      "metadata": {
        "colab": {
          "base_uri": "https://localhost:8080/"
        },
        "id": "5i2BSJXyBeXX",
        "outputId": "d13df876-9088-4a8b-9bcd-5f4afc713a3a"
      },
      "source": [
        "import numpy as np\n",
        "validation_loss = history.history['val_loss']\n",
        "loss_= np.mean(np.array(validation_loss))\n",
        "print(\"Average validation loss : \",loss_)"
      ],
      "execution_count": null,
      "outputs": [
        {
          "output_type": "stream",
          "text": [
            "Average validation loss :  0.0074\n"
          ],
          "name": "stdout"
        }
      ]
    },
    {
      "cell_type": "code",
      "metadata": {
        "colab": {
          "base_uri": "https://localhost:8080/",
          "height": 279
        },
        "id": "nP-_UyVNBgjb",
        "outputId": "f8149d48-94dc-4006-d4ee-804845ece10d"
      },
      "source": [
        "# plot loss\n",
        "pyplot.plot(history.history['loss'], label='train')\n",
        "pyplot.plot(history.history['val_loss'], label='test')\n",
        "pyplot.legend()\n",
        "pyplot.xlabel('Epochs')\n",
        "pyplot.ylabel('Loss')\n",
        "pyplot.show()"
      ],
      "execution_count": null,
      "outputs": [
        {
          "output_type": "display_data",
          "data": {
            "image/png": "[encoded data removed]",
            "text/plain": [
              "<Figure size 432x288 with 1 Axes>"
            ]
          },
          "metadata": {
            "tags": [],
            "needs_background": "light"
          }
        }
      ]
    },
    {
      "cell_type": "code",
      "metadata": {
        "colab": {
          "base_uri": "https://localhost:8080/"
        },
        "id": "wNuiZ5wLBiOH",
        "outputId": "30cf8365-d5d6-4066-f951-fc503624353d"
      },
      "source": [
        "pred_x1 = model_sgd_m.predict(X_test)\n",
        "pred_x1.shape"
      ],
      "execution_count": null,
      "outputs": [
        {
          "output_type": "execute_result",
          "data": {
            "text/plain": [
              "(10000, 784)"
            ]
          },
          "metadata": {
            "tags": []
          },
          "execution_count": 47
        }
      ]
    },
    {
      "cell_type": "markdown",
      "metadata": {
        "id": "-fj2yu9pBkQD"
      },
      "source": [
        "Reshape images back to 28,28"
      ]
    },
    {
      "cell_type": "code",
      "metadata": {
        "id": "YHVHIlBtBmOE"
      },
      "source": [
        "pred_x1 = pred_x1.reshape(10000,28,28)"
      ],
      "execution_count": null,
      "outputs": []
    },
    {
      "cell_type": "code",
      "metadata": {
        "colab": {
          "base_uri": "https://localhost:8080/",
          "height": 281
        },
        "id": "QbEcIdIhBoFm",
        "outputId": "d0002acc-a43d-4193-fb59-621d90bd2da9"
      },
      "source": [
        "import matplotlib.pyplot as plt\n",
        "plt.figure()\n",
        "plt.imshow(pred_x1[10])\n",
        "plt.title('Predicted')\n",
        "plt.grid(False)\n",
        "plt.axis('off')"
      ],
      "execution_count": null,
      "outputs": [
        {
          "output_type": "execute_result",
          "data": {
            "text/plain": [
              "(-0.5, 27.5, 27.5, -0.5)"
            ]
          },
          "metadata": {
            "tags": []
          },
          "execution_count": 49
        },
        {
          "output_type": "display_data",
          "data": {
            "image/png": "[encoded data removed]",
            "text/plain": [
              "<Figure size 432x288 with 1 Axes>"
            ]
          },
          "metadata": {
            "tags": [],
            "needs_background": "light"
          }
        }
      ]
    },
    {
      "cell_type": "code",
      "metadata": {
        "colab": {
          "base_uri": "https://localhost:8080/",
          "height": 281
        },
        "id": "B5xkanxwBp7k",
        "outputId": "b579580e-ae50-45c6-fa5b-24ac5affdb00"
      },
      "source": [
        "plt.figure()\n",
        "plt.imshow(X_test[10].reshape(28,28))\n",
        "plt.title('Original')\n",
        "plt.grid(False)\n",
        "plt.axis('off')"
      ],
      "execution_count": null,
      "outputs": [
        {
          "output_type": "execute_result",
          "data": {
            "text/plain": [
              "(-0.5, 27.5, 27.5, -0.5)"
            ]
          },
          "metadata": {
            "tags": []
          },
          "execution_count": 33
        },
        {
          "output_type": "display_data",
          "data": {
            "image/png": "[encoded data removed]",
            "text/plain": [
              "<Figure size 432x288 with 1 Axes>"
            ]
          },
          "metadata": {
            "tags": [],
            "needs_background": "light"
          }
        }
      ]
    },
    {
      "cell_type": "markdown",
      "metadata": {
        "id": "QGEzrcxTFkQO"
      },
      "source": [
        "### RMSprop"
      ]
    },
    {
      "cell_type": "code",
      "metadata": {
        "id": "CLyaGzNSF0GJ"
      },
      "source": [
        " opt = tensorflow.keras.optimizers.RMSprop(learning_rate=0.1)"
      ],
      "execution_count": null,
      "outputs": []
    },
    {
      "cell_type": "code",
      "metadata": {
        "id": "n5BvieweIsLM"
      },
      "source": [
        "model_rms = auto_encoder(opt)"
      ],
      "execution_count": null,
      "outputs": []
    },
    {
      "cell_type": "code",
      "metadata": {
        "colab": {
          "base_uri": "https://localhost:8080/"
        },
        "id": "FQ9_vmWJJQV8",
        "outputId": "6a81e042-e029-42e7-81f2-4c39fb70e2e8"
      },
      "source": [
        "history = model_rms.fit(X_train, X_train, epochs=10, batch_size=16, verbose=2, validation_data=(X_test, X_test))"
      ],
      "execution_count": null,
      "outputs": [
        {
          "output_type": "stream",
          "text": [
            "Epoch 1/10\n",
            "3750/3750 - 76s - loss: 19.4561 - val_loss: 0.5175\n",
            "Epoch 2/10\n",
            "3750/3750 - 75s - loss: 18.9891 - val_loss: 0.8646\n",
            "Epoch 3/10\n",
            "3750/3750 - 75s - loss: 19.9707 - val_loss: 0.7608\n",
            "Epoch 4/10\n",
            "3750/3750 - 76s - loss: 19.2628 - val_loss: 3.1703\n",
            "Epoch 5/10\n",
            "3750/3750 - 75s - loss: 19.7897 - val_loss: 0.2383\n",
            "Epoch 6/10\n",
            "3750/3750 - 76s - loss: 19.0491 - val_loss: 0.2508\n",
            "Epoch 7/10\n",
            "3750/3750 - 75s - loss: 19.5824 - val_loss: 0.6835\n",
            "Epoch 8/10\n",
            "3750/3750 - 75s - loss: 18.7411 - val_loss: 0.2457\n",
            "Epoch 9/10\n",
            "3750/3750 - 75s - loss: 19.4392 - val_loss: 0.9895\n",
            "Epoch 10/10\n",
            "3750/3750 - 76s - loss: 20.2517 - val_loss: 0.1203\n"
          ],
          "name": "stdout"
        }
      ]
    },
    {
      "cell_type": "code",
      "metadata": {
        "colab": {
          "base_uri": "https://localhost:8080/"
        },
        "id": "2ItGqgXAJYFR",
        "outputId": "bb5dbc66-39fe-4b7d-b229-4dbee53eddde"
      },
      "source": [
        "import numpy as np\n",
        "validation_loss = history.history['val_loss']\n",
        "loss_= np.mean(np.array(validation_loss))\n",
        "print(\"Average validation loss : \",loss_)"
      ],
      "execution_count": null,
      "outputs": [
        {
          "output_type": "stream",
          "text": [
            "Average validation loss :  0.7841357000172138\n"
          ],
          "name": "stdout"
        }
      ]
    },
    {
      "cell_type": "code",
      "metadata": {
        "colab": {
          "base_uri": "https://localhost:8080/",
          "height": 279
        },
        "id": "6Kh7A_L6JhUS",
        "outputId": "2c44077f-ee51-4ce6-fa73-ceb85a51c4fc"
      },
      "source": [
        "# plot loss\n",
        "pyplot.plot(history.history['loss'], label='train')\n",
        "pyplot.plot(history.history['val_loss'], label='test')\n",
        "pyplot.legend()\n",
        "pyplot.xlabel('Epochs')\n",
        "pyplot.ylabel('Loss')\n",
        "pyplot.show()"
      ],
      "execution_count": null,
      "outputs": [
        {
          "output_type": "display_data",
          "data": {
            "image/png": "[encoded data removed]",
            "text/plain": [
              "<Figure size 432x288 with 1 Axes>"
            ]
          },
          "metadata": {
            "tags": [],
            "needs_background": "light"
          }
        }
      ]
    },
    {
      "cell_type": "code",
      "metadata": {
        "colab": {
          "base_uri": "https://localhost:8080/"
        },
        "id": "hVTwDmVJJewF",
        "outputId": "c0e6d3bd-55b9-4329-af0c-fc58a11fd4ba"
      },
      "source": [
        "pred_x1 = model_rms.predict(X_test)\n",
        "pred_x1.shape"
      ],
      "execution_count": null,
      "outputs": [
        {
          "output_type": "execute_result",
          "data": {
            "text/plain": [
              "(10000, 784)"
            ]
          },
          "metadata": {
            "tags": []
          },
          "execution_count": 42
        }
      ]
    },
    {
      "cell_type": "markdown",
      "metadata": {
        "id": "FzL9BI5UJkik"
      },
      "source": [
        "Reshape images back to 28,28"
      ]
    },
    {
      "cell_type": "code",
      "metadata": {
        "id": "d8ykpSkUJn1F"
      },
      "source": [
        "pred_x1 = pred_x1.reshape(10000,28,28)"
      ],
      "execution_count": null,
      "outputs": []
    },
    {
      "cell_type": "code",
      "metadata": {
        "colab": {
          "base_uri": "https://localhost:8080/",
          "height": 281
        },
        "id": "kIxd5xusJsPd",
        "outputId": "80bf7555-4e4b-4b06-ab17-fdd76279db08"
      },
      "source": [
        "import matplotlib.pyplot as plt\n",
        "plt.figure()\n",
        "plt.imshow(pred_x1[10])\n",
        "plt.title('Predicted')\n",
        "plt.grid(False)\n",
        "plt.axis('off')"
      ],
      "execution_count": null,
      "outputs": [
        {
          "output_type": "execute_result",
          "data": {
            "text/plain": [
              "(-0.5, 27.5, 27.5, -0.5)"
            ]
          },
          "metadata": {
            "tags": []
          },
          "execution_count": 44
        },
        {
          "output_type": "display_data",
          "data": {
            "image/png": "[encoded data removed]",
            "text/plain": [
              "<Figure size 432x288 with 1 Axes>"
            ]
          },
          "metadata": {
            "tags": [],
            "needs_background": "light"
          }
        }
      ]
    },
    {
      "cell_type": "code",
      "metadata": {
        "colab": {
          "base_uri": "https://localhost:8080/",
          "height": 281
        },
        "id": "TERQLqPGJudJ",
        "outputId": "23eec6a6-1550-477b-bd50-34ba768295e9"
      },
      "source": [
        "plt.figure()\n",
        "plt.imshow(X_test[10].reshape(28,28))\n",
        "plt.title('Original')\n",
        "plt.grid(False)\n",
        "plt.axis('off')"
      ],
      "execution_count": null,
      "outputs": [
        {
          "output_type": "execute_result",
          "data": {
            "text/plain": [
              "(-0.5, 27.5, 27.5, -0.5)"
            ]
          },
          "metadata": {
            "tags": []
          },
          "execution_count": 45
        },
        {
          "output_type": "display_data",
          "data": {
            "image/png": "[encoded data removed]",
            "text/plain": [
              "<Figure size 432x288 with 1 Axes>"
            ]
          },
          "metadata": {
            "tags": [],
            "needs_background": "light"
          }
        }
      ]
    },
    {
      "cell_type": "markdown",
      "metadata": {
        "id": "NUQVogSDMcDS"
      },
      "source": [
        "### Best Model based on Least average Validation loss"
      ]
    },
    {
      "cell_type": "markdown",
      "metadata": {
        "id": "8aGHZTXnN5MP"
      },
      "source": [
        "SGD optimizer with momentum = 0.9 performed the best"
      ]
    },
    {
      "cell_type": "code",
      "metadata": {
        "colab": {
          "base_uri": "https://localhost:8080/"
        },
        "id": "p8asRVShM4zD",
        "outputId": "aa23874b-6fd0-47b7-a67f-96d5f78120a9"
      },
      "source": [
        "model_sgd_m.save('/content/drive/MyDrive/SMAI/assgn3/q2')"
      ],
      "execution_count": null,
      "outputs": [
        {
          "output_type": "stream",
          "text": [
            "INFO:tensorflow:Assets written to: /content/drive/MyDrive/SMAI/assgn3/q2/assets\n"
          ],
          "name": "stdout"
        }
      ]
    }
  ]
}